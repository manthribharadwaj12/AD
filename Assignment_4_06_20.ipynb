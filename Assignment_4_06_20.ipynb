{
  "nbformat": 4,
  "nbformat_minor": 0,
  "metadata": {
    "kernelspec": {
      "display_name": "Python 3",
      "language": "python",
      "name": "python3"
    },
    "language_info": {
      "codemirror_mode": {
        "name": "ipython",
        "version": 3
      },
      "file_extension": ".py",
      "mimetype": "text/x-python",
      "name": "python",
      "nbconvert_exporter": "python",
      "pygments_lexer": "ipython3",
      "version": "3.7.6"
    },
    "colab": {
      "name": "Assignment 4-06-20.ipynb",
      "provenance": [],
      "include_colab_link": true
    }
  },
  "cells": [
    {
      "cell_type": "markdown",
      "metadata": {
        "id": "view-in-github",
        "colab_type": "text"
      },
      "source": [
        "<a href=\"https://colab.research.google.com/github/manthribharadwaj12/AD/blob/master/Assignment_4_06_20.ipynb\" target=\"_parent\"><img src=\"https://colab.research.google.com/assets/colab-badge.svg\" alt=\"Open In Colab\"/></a>"
      ]
    },
    {
      "cell_type": "markdown",
      "metadata": {
        "id": "2hz6-uDkrO91",
        "colab_type": "text"
      },
      "source": [
        "# CSE-221710313031-M S S BHARADWAJ"
      ]
    },
    {
      "cell_type": "markdown",
      "metadata": {
        "id": "IPOlvSE-rO95",
        "colab_type": "text"
      },
      "source": [
        "Question 1:\n",
        "\n",
        "# [Reversing an Array] \n",
        "\n",
        "Write a NumPy program to reverse an array (first element becomes last). \n",
        "\n",
        "Original array:\n",
        "[12 13 14 15 16 17 18 19 20 21 22 23 24 25 26 27 28 29 30 31 32 33 34 35 36 37]\n",
        "\n",
        "Reverse array:\n",
        "[37 36 35 34 33 32 31 30 29 28 27 26 25 24 23 22 21 20 19 18 17 16 15 14 13 12]\n"
      ]
    },
    {
      "cell_type": "code",
      "metadata": {
        "id": "3qlxMEZ0rO9-",
        "colab_type": "code",
        "colab": {}
      },
      "source": [
        "import numpy as np"
      ],
      "execution_count": 0,
      "outputs": []
    },
    {
      "cell_type": "code",
      "metadata": {
        "id": "VwMPqjjmrO-Y",
        "colab_type": "code",
        "colab": {},
        "outputId": "2b53845b-2d7d-4e43-d6b8-3b6b169cef42"
      },
      "source": [
        "a=np.arange(12,38)\n",
        "b=a[::-1]\n",
        "print(\"original array:\",a)\n",
        "print(\"reversed array:\",b)"
      ],
      "execution_count": 0,
      "outputs": [
        {
          "output_type": "stream",
          "text": [
            "original array: [12 13 14 15 16 17 18 19 20 21 22 23 24 25 26 27 28 29 30 31 32 33 34 35\n",
            " 36 37]\n",
            "reversed array: [37 36 35 34 33 32 31 30 29 28 27 26 25 24 23 22 21 20 19 18 17 16 15 14\n",
            " 13 12]\n"
          ],
          "name": "stdout"
        }
      ]
    },
    {
      "cell_type": "markdown",
      "metadata": {
        "id": "S3rqVRIqrO-o",
        "colab_type": "text"
      },
      "source": [
        "Question 2:\n",
        "\n",
        "# [Make Border 1] \n",
        "\n",
        "Write a NumPy program to create a 2d array with 1 on the border and 0 inside. \n",
        "\n",
        "Original array:\n",
        "\n",
        "[[ 1. 1. 1. 1. 1.]\n",
        "\n",
        "...................\n",
        "\n",
        "[ 1. 1. 1. 1. 1.]]\n",
        "\n",
        "1 on the border and 0 inside in the array\n",
        "\n",
        "Expected output:\n",
        "\n",
        "[[ 1. 1. 1. 1. 1.]\n",
        "\n",
        "[1. 0. 0. 0. 1.]\n",
        "\n",
        "……………..\n",
        "\n",
        "[1. 0. 0. 0. 1.]\n",
        "\n",
        "[ 1. 1. 1. 1. 1.]]\n"
      ]
    },
    {
      "cell_type": "code",
      "metadata": {
        "id": "-3uCU71OrO-p",
        "colab_type": "code",
        "colab": {},
        "outputId": "f9a8cdea-70e9-49b5-fb48-5ce9c5f9fef2"
      },
      "source": [
        "\n",
        "a1=int(input())\n",
        "a2=int(input())\n",
        "b=np.ones((a1,a2),dtype=\"int32\")\n",
        "b[1:a1-1,1:a2-1]=0\n",
        "b"
      ],
      "execution_count": 0,
      "outputs": [
        {
          "output_type": "stream",
          "text": [
            "4\n",
            "4\n"
          ],
          "name": "stdout"
        },
        {
          "output_type": "execute_result",
          "data": {
            "text/plain": [
              "array([[1, 1, 1, 1],\n",
              "       [1, 0, 0, 1],\n",
              "       [1, 0, 0, 1],\n",
              "       [1, 1, 1, 1]])"
            ]
          },
          "metadata": {
            "tags": []
          },
          "execution_count": 15
        }
      ]
    },
    {
      "cell_type": "markdown",
      "metadata": {
        "id": "CTDJPQBZrO-w",
        "colab_type": "text"
      },
      "source": [
        "Question 3:\n",
        "\n",
        "# [Membership Test] \n",
        "\n",
        "Write a NumPy program to test whether each element of a 1-D array is also present in a second array.\n",
        "\n",
        "Expected Output:\n",
        "\n",
        "Array1: [ 0 10 20 40 60]\n",
        "\n",
        "Array2: [0, 40]\n",
        "\n",
        "Compare each element of array1 and array2\n",
        "\n",
        "[ True False False True False]\n",
        "\n"
      ]
    },
    {
      "cell_type": "code",
      "metadata": {
        "id": "dhCEBCXarO-x",
        "colab_type": "code",
        "colab": {},
        "outputId": "0790058f-16a8-4bb1-cfaa-d0f2d9ec2c32"
      },
      "source": [
        "a3=np.array([0,10,20,40,60])\n",
        "a4=np.array([0,40])\n",
        "r=[]\n",
        "if(len(a3)>=len(a4)):\n",
        "    for i in a3:\n",
        "        r.append(i in a4)\n",
        "else:\n",
        "    for i in a4:\n",
        "        r.append(i in a3)\n",
        "r\n",
        "    "
      ],
      "execution_count": 0,
      "outputs": [
        {
          "output_type": "execute_result",
          "data": {
            "text/plain": [
              "[True, False, False, True, False]"
            ]
          },
          "metadata": {
            "tags": []
          },
          "execution_count": 32
        }
      ]
    },
    {
      "cell_type": "markdown",
      "metadata": {
        "id": "aRtdEAuTrO-3",
        "colab_type": "text"
      },
      "source": [
        "Question 4:\n",
        "\n",
        "# [Set Difference] \n",
        "\n",
        "Write a NumPy program to find the set difference of two arrays. The set difference will return the sorted, unique values in array1 that are not in array2.\n",
        "\n",
        "Expected Output:\n",
        "\n",
        "Array1: [ 0 10 20 40 60 80]\n",
        "\n",
        "Array2: [10, 30, 40, 50, 70, 90]\n",
        "\n",
        "Set difference between two arrays:\n",
        "\n",
        "[ 0 20 60 80]\n"
      ]
    },
    {
      "cell_type": "code",
      "metadata": {
        "id": "0XT6WknRrO-4",
        "colab_type": "code",
        "colab": {},
        "outputId": "83e8d28f-458a-4c4d-ec77-5b9a4b2c467a"
      },
      "source": [
        "ar1=np.array([0,10,20,40,60,80])\n",
        "ar2=np.array([10,30,40,50,70,90])\n",
        "r=[]\n",
        "for i in ar1:\n",
        "    if i not in ar2:\n",
        "        r.append(i)\n",
        "r.sort()\n",
        "r"
      ],
      "execution_count": 0,
      "outputs": [
        {
          "output_type": "execute_result",
          "data": {
            "text/plain": [
              "[0, 20, 60, 80]"
            ]
          },
          "metadata": {
            "tags": []
          },
          "execution_count": 37
        }
      ]
    },
    {
      "cell_type": "markdown",
      "metadata": {
        "id": "touD32zxrO_C",
        "colab_type": "text"
      },
      "source": [
        "Question 5:\n",
        "\n",
        "# [Formation of Diagonal Matrix] \n",
        "\n",
        "Write a NumPy program to create a 2-D array whose diagonal equals [4, 5, 6, 8] and 0's elsewhere.\n",
        "Expected Output:\n",
        "[[4 0 0 0]\n",
        "\n",
        "[0 5 0 0]\n",
        "\n",
        "[0 0 6 0]\n",
        "\n",
        "[0 0 0 8]]\n"
      ]
    },
    {
      "cell_type": "code",
      "metadata": {
        "id": "yAFBe6r8rO_C",
        "colab_type": "code",
        "colab": {},
        "outputId": "ca1de968-593c-4379-a151-a360c6cbb2f5"
      },
      "source": [
        "l=[4,5,6,8]\n",
        "A=np.eye(len(l),dtype=\"int32\")\n",
        "for i in range(len(l)):\n",
        "    A[i,i]=l[i]\n",
        "A"
      ],
      "execution_count": 0,
      "outputs": [
        {
          "output_type": "execute_result",
          "data": {
            "text/plain": [
              "array([[4, 0, 0, 0],\n",
              "       [0, 5, 0, 0],\n",
              "       [0, 0, 6, 0],\n",
              "       [0, 0, 0, 8]])"
            ]
          },
          "metadata": {
            "tags": []
          },
          "execution_count": 46
        }
      ]
    }
  ]
}