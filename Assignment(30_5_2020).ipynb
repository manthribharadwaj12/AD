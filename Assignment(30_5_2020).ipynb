{
  "nbformat": 4,
  "nbformat_minor": 0,
  "metadata": {
    "kernelspec": {
      "display_name": "Python 3",
      "language": "python",
      "name": "python3"
    },
    "language_info": {
      "codemirror_mode": {
        "name": "ipython",
        "version": 3
      },
      "file_extension": ".py",
      "mimetype": "text/x-python",
      "name": "python",
      "nbconvert_exporter": "python",
      "pygments_lexer": "ipython3",
      "version": "3.7.6"
    },
    "colab": {
      "name": "Assignment(30-5-2020).ipynb",
      "provenance": [],
      "include_colab_link": true
    }
  },
  "cells": [
    {
      "cell_type": "markdown",
      "metadata": {
        "id": "view-in-github",
        "colab_type": "text"
      },
      "source": [
        "<a href=\"https://colab.research.google.com/github/manthribharadwaj12/AD/blob/master/Assignment(30_5_2020).ipynb\" target=\"_parent\"><img src=\"https://colab.research.google.com/assets/colab-badge.svg\" alt=\"Open In Colab\"/></a>"
      ]
    },
    {
      "cell_type": "markdown",
      "metadata": {
        "id": "hJCdBlRhgr5x",
        "colab_type": "text"
      },
      "source": [
        "# CSE-221710313031-M S S Bharadwaj"
      ]
    },
    {
      "cell_type": "markdown",
      "metadata": {
        "id": "rb_2ahBOgr50",
        "colab_type": "text"
      },
      "source": [
        "Question 1:\n",
        "Count the no.of words,no.of letters,no.of lines available in your file\n"
      ]
    },
    {
      "cell_type": "code",
      "metadata": {
        "id": "lH1eTpZmgr52",
        "colab_type": "code",
        "colab": {},
        "outputId": "3218b5e9-5760-4b2e-ef18-13ec892f1c96"
      },
      "source": [
        "f=input()\n",
        "f1=open(f)\n",
        "wc=0\n",
        "lec=0\n",
        "lic=0\n",
        "for lines in f1.readlines():\n",
        "    l1=lines.split()\n",
        "    wc=wc+len(l1)\n",
        "    lic=lic+1\n",
        "    for i in l1:\n",
        "        lec=lec+len(i)\n",
        "    print(l1)\n",
        "print(\"no of words:\",wc)\n",
        "print(\"no of letters:\",lec)\n",
        "print(\"no of lines:\",lic)"
      ],
      "execution_count": 0,
      "outputs": [
        {
          "output_type": "stream",
          "text": [
            "sample.txt\n",
            "['hi', 'i', 'am', 'bharadwaj']\n",
            "['what', 'is', 'happening.']\n",
            "['parrot']\n",
            "no of words: 8\n",
            "no of letters: 36\n",
            "no of lines: 3\n"
          ],
          "name": "stdout"
        }
      ]
    },
    {
      "cell_type": "markdown",
      "metadata": {
        "id": "1T5UY9Wtgr6C",
        "colab_type": "text"
      },
      "source": [
        "Question 2:\n",
        "Copy the content of one file to another\n"
      ]
    },
    {
      "cell_type": "code",
      "metadata": {
        "id": "OM-z8Joqgr6D",
        "colab_type": "code",
        "colab": {},
        "outputId": "57e07ecf-fc48-41c2-ea5b-0729579174a2"
      },
      "source": [
        "f1=input()\n",
        "f2=input()\n",
        "f3=open(f1)\n",
        "f4=open(f2,'a')\n",
        "for i in f3.readlines():\n",
        "    f4.write(i)\n",
        "f4=open(f2,'r')\n",
        "for i in f4.readlines():\n",
        "    print(i)"
      ],
      "execution_count": 0,
      "outputs": [
        {
          "output_type": "stream",
          "text": [
            "sample.txt\n",
            "sample1.txt\n",
            "hi i am bharadwaj\n",
            "\n",
            "what is happening.\n",
            "\n",
            "parrot\n"
          ],
          "name": "stdout"
        }
      ]
    },
    {
      "cell_type": "markdown",
      "metadata": {
        "id": "wL2h5x6Zgr6N",
        "colab_type": "text"
      },
      "source": [
        "Question 3:\n",
        "Display the words starting with letter 'p'\n"
      ]
    },
    {
      "cell_type": "code",
      "metadata": {
        "id": "ZuaLwjUlgr6S",
        "colab_type": "code",
        "colab": {},
        "outputId": "14a90bcc-584c-44b5-9cb8-4965521c77d7"
      },
      "source": [
        "f=input()\n",
        "f1=open(f)\n",
        "for i in f1.readlines():\n",
        "    l1=i.split()\n",
        "    for j in l1:\n",
        "        if j[0]=='p':\n",
        "            print(j)\n"
      ],
      "execution_count": 0,
      "outputs": [
        {
          "output_type": "stream",
          "text": [
            "sample.txt\n",
            "parrot\n"
          ],
          "name": "stdout"
        }
      ]
    },
    {
      "cell_type": "markdown",
      "metadata": {
        "id": "yM7mMwXMgr6a",
        "colab_type": "text"
      },
      "source": [
        "Question 4:\n",
        "Rename and remove files\n"
      ]
    },
    {
      "cell_type": "code",
      "metadata": {
        "id": "py3vXcCRgr6b",
        "colab_type": "code",
        "colab": {},
        "outputId": "67266825-7f2f-4b11-88fb-e52644acc472"
      },
      "source": [
        "import os\n",
        "f=input()\n",
        "os.rename(f,\"1.txt\")\n",
        "os.remove(\"1.txt\")"
      ],
      "execution_count": 0,
      "outputs": [
        {
          "output_type": "stream",
          "text": [
            "hi.txt\n"
          ],
          "name": "stdout"
        }
      ]
    },
    {
      "cell_type": "markdown",
      "metadata": {
        "id": "spikj_y5gr6j",
        "colab_type": "text"
      },
      "source": [
        "Question 5:\n",
        "Create a folder \n",
        "Goto that folder and create 5 no.of files\n",
        "All the file names should be unique\n",
        "Add some content into the file and the content in all the files should be unique\n",
        "File size should be 512bits"
      ]
    },
    {
      "cell_type": "code",
      "metadata": {
        "id": "ExfzFHTRgr6l",
        "colab_type": "code",
        "colab": {},
        "outputId": "20eb1288-7768-41e1-e0b9-4d93ba75b0a6"
      },
      "source": [
        "import os\n",
        "p=\"C:/Users/user/Desktop/\"\n",
        "d=\"hihe\"\n",
        "path = os.path.join(p,d) \n",
        "os.mkdir(path)\n",
        "os.chdir(path)\n",
        "a=\"hello\"\n",
        "l=[]\n",
        "for i in range(0,5):\n",
        "    l.append(a+str(i)+\".txt\")\n",
        "for i in l:\n",
        "    print(i)\n",
        "    f=open(i,'w')\n",
        "    f.write(\"hello0.txt\"*51+\"ab\")\n",
        "f=open(i)\n",
        "print(\"Contents of\",i)\n",
        "for i in f.readlines():\n",
        "    print(i)\n",
        "print(\"Contents of hello3.txt\")\n",
        "f=open(\"hello3.txt\")\n",
        "for i in f.readlines():\n",
        "    print(i)\n",
        "print(\"size of hello4.txt and hello3.txt\")\n",
        "print(os.path.getsize(\"hello4.txt\"),end=\" \")\n",
        "print(os.path.getsize(\"hello3.txt\"))"
      ],
      "execution_count": 0,
      "outputs": [
        {
          "output_type": "stream",
          "text": [
            "hello0.txt\n",
            "hello1.txt\n",
            "hello2.txt\n",
            "hello3.txt\n",
            "hello4.txt\n",
            "Contents of hello4.txt\n",
            "hello0.txthello0.txthello0.txthello0.txthello0.txthello0.txthello0.txthello0.txthello0.txthello0.txthello0.txthello0.txthello0.txthello0.txthello0.txthello0.txthello0.txthello0.txthello0.txthello0.txthello0.txthello0.txthello0.txthello0.txthello0.txthello0.txthello0.txthello0.txthello0.txthello0.txthello0.txthello0.txthello0.txthello0.txthello0.txthello0.txthello0.txthello0.txthello0.txthello0.txthello0.txthello0.txthello0.txthello0.txthello0.txthello0.txthello0.txthello0.txthello0.txthello0.txthello0.txtab\n",
            "Contents of hello3.txt\n",
            "hello0.txthello0.txthello0.txthello0.txthello0.txthello0.txthello0.txthello0.txthello0.txthello0.txthello0.txthello0.txthello0.txthello0.txthello0.txthello0.txthello0.txthello0.txthello0.txthello0.txthello0.txthello0.txthello0.txthello0.txthello0.txthello0.txthello0.txthello0.txthello0.txthello0.txthello0.txthello0.txthello0.txthello0.txthello0.txthello0.txthello0.txthello0.txthello0.txthello0.txthello0.txthello0.txthello0.txthello0.txthello0.txthello0.txthello0.txthello0.txthello0.txthello0.txthello0.txtab\n",
            "size of hello4.txt and hello3.txt\n",
            "512 512\n"
          ],
          "name": "stdout"
        }
      ]
    },
    {
      "cell_type": "code",
      "metadata": {
        "id": "Sm1RwZ3lgr6s",
        "colab_type": "code",
        "colab": {}
      },
      "source": [
        ""
      ],
      "execution_count": 0,
      "outputs": []
    }
  ]
}