{
  "nbformat": 4,
  "nbformat_minor": 0,
  "metadata": {
    "kernelspec": {
      "display_name": "Python 3",
      "language": "python",
      "name": "python3"
    },
    "language_info": {
      "codemirror_mode": {
        "name": "ipython",
        "version": 3
      },
      "file_extension": ".py",
      "mimetype": "text/x-python",
      "name": "python",
      "nbconvert_exporter": "python",
      "pygments_lexer": "ipython3",
      "version": "3.7.6"
    },
    "colab": {
      "name": "Assignment 1-6-20.ipynb",
      "provenance": [],
      "include_colab_link": true
    }
  },
  "cells": [
    {
      "cell_type": "markdown",
      "metadata": {
        "id": "view-in-github",
        "colab_type": "text"
      },
      "source": [
        "<a href=\"https://colab.research.google.com/github/manthribharadwaj12/AD/blob/master/Assignment_1_6_20.ipynb\" target=\"_parent\"><img src=\"https://colab.research.google.com/assets/colab-badge.svg\" alt=\"Open In Colab\"/></a>"
      ]
    },
    {
      "cell_type": "markdown",
      "metadata": {
        "id": "kcb7ySmf8OnN",
        "colab_type": "text"
      },
      "source": [
        "# CSE-221710313031-M S S Bharadwaj"
      ]
    },
    {
      "cell_type": "markdown",
      "metadata": {
        "id": "Y0RTHXO48OnS",
        "colab_type": "text"
      },
      "source": [
        "Password Picker --- password format=={noun+verb+digit+special character}\n",
        "\n",
        "----> password picker should stop whenever user asks it to stop"
      ]
    },
    {
      "cell_type": "code",
      "metadata": {
        "id": "mDWvfeiP8OnV",
        "colab_type": "code",
        "colab": {}
      },
      "source": [
        "#getting all nouns from noun.txt file\n",
        "f=open(\"noun.txt\")\n",
        "nouns=[]\n",
        "for i in f.readlines():\n",
        "    nouns.append(i[0:len(i)-1])"
      ],
      "execution_count": 0,
      "outputs": []
    },
    {
      "cell_type": "code",
      "metadata": {
        "id": "S0-HSwwn8Onf",
        "colab_type": "code",
        "colab": {}
      },
      "source": [
        "#getting all verbs from verbs.txt file\n",
        "f=open(\"verbs.txt\")\n",
        "verbs=[]\n",
        "for i in f.readlines():\n",
        "    verbs.append(i[0:len(i)-1])"
      ],
      "execution_count": 0,
      "outputs": []
    },
    {
      "cell_type": "code",
      "metadata": {
        "id": "uwL5rRLk8Onm",
        "colab_type": "code",
        "colab": {}
      },
      "source": [
        "#list with special characters\n",
        "sp=[\",\",\".\",\"?\",\"!\",\"@\",\"#\",\"$\",\"%\",\"^\",\"&\",\"*\",\";\",\":\",\"<\",\">\",\"|\",\"`\",\"~\",\"-\",\"_\",\"[\",\"]\",\"+\",\"=\",\"(\",\")\",\"'/\"]"
      ],
      "execution_count": 0,
      "outputs": []
    },
    {
      "cell_type": "code",
      "metadata": {
        "id": "B6w6TYaV8Ont",
        "colab_type": "code",
        "colab": {},
        "outputId": "f706f191-1700-439d-8c30-1ab6e481d848"
      },
      "source": [
        "#import random package for randint and choice methods\n",
        "import random\n",
        "#take a variable y to control password picker\n",
        "y=1\n",
        "while y!=0:\n",
        "    password=\"\"\n",
        "    #select noun,verb,number and special character with randint and choice methods \n",
        "    n=random.choice(nouns)\n",
        "    v=random.choice(verbs)\n",
        "    l=random.choice(sp)\n",
        "    i=str(random.randint(1,1000))\n",
        "    #generate password\n",
        "    password=password+n+v+i+l\n",
        "    print(password)\n",
        "    #Ask user's opinion or order\n",
        "    y=int(input(\"Enter 1 to generate new password and 0 to stop process \"))"
      ],
      "execution_count": 0,
      "outputs": [
        {
          "output_type": "stream",
          "text": [
            "presidenttake889*\n",
            "Enter 1 to generate new password and 0 to stop process 1\n",
            "weekneed208~\n",
            "Enter 1 to generate new password and 0 to stop process 1\n",
            "issuelead113;\n",
            "Enter 1 to generate new password and 0 to stop process 0\n"
          ],
          "name": "stdout"
        }
      ]
    }
  ]
}