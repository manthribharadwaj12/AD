{
  "nbformat": 4,
  "nbformat_minor": 0,
  "metadata": {
    "kernelspec": {
      "display_name": "Python 3",
      "language": "python",
      "name": "python3"
    },
    "language_info": {
      "codemirror_mode": {
        "name": "ipython",
        "version": 3
      },
      "file_extension": ".py",
      "mimetype": "text/x-python",
      "name": "python",
      "nbconvert_exporter": "python",
      "pygments_lexer": "ipython3",
      "version": "3.7.6"
    },
    "colab": {
      "name": "Assignment- 3-06-20.ipynb",
      "provenance": [],
      "include_colab_link": true
    }
  },
  "cells": [
    {
      "cell_type": "markdown",
      "metadata": {
        "id": "view-in-github",
        "colab_type": "text"
      },
      "source": [
        "<a href=\"https://colab.research.google.com/github/manthribharadwaj12/AD/blob/master/Assignment_3_06_20.ipynb\" target=\"_parent\"><img src=\"https://colab.research.google.com/assets/colab-badge.svg\" alt=\"Open In Colab\"/></a>"
      ]
    },
    {
      "cell_type": "markdown",
      "metadata": {
        "id": "06p0lw-5sKQn",
        "colab_type": "text"
      },
      "source": [
        "# CSE-221710313031-M S S Bharadwaj"
      ]
    },
    {
      "cell_type": "markdown",
      "metadata": {
        "id": "YbNnJbeCsKQp",
        "colab_type": "text"
      },
      "source": [
        "Question 1:\n",
        "[Reverse] Copy the contents of a text file into another, printing the reversed version of each input line\n"
      ]
    },
    {
      "cell_type": "code",
      "metadata": {
        "id": "g29Upwc3sKQr",
        "colab_type": "code",
        "colab": {},
        "outputId": "f3b3308c-4bca-428a-fd7c-bdee0007c495"
      },
      "source": [
        "f=open(\"a.txt\")\n",
        "f1=open(\"b.txt\",'a')\n",
        "for i in f.readlines():\n",
        "    i=i.split(\" \")\n",
        "    i.reverse()\n",
        "    a=\"\"\n",
        "    for j in i:\n",
        "        if '\\n' in j:\n",
        "            j=j[:len(j)-1]\n",
        "        a=a+j+\" \"\n",
        "    a=a+\"\\n\"\n",
        "    print(a)\n",
        "    f1.write(a)"
      ],
      "execution_count": 0,
      "outputs": [
        {
          "output_type": "stream",
          "text": [
            "bharadwaj am i hi \n",
            "\n",
            "programming Advanced \n",
            "\n",
            "Gitam dsps dhyanahitha \n",
            "\n",
            "india telangana hyderabad \n",
            "\n"
          ],
          "name": "stdout"
        }
      ]
    },
    {
      "cell_type": "markdown",
      "metadata": {
        "id": "1tZPaau8sKQ5",
        "colab_type": "text"
      },
      "source": [
        "Question 2:\n",
        "[Number Lines] Print the contents of a file line by line putting a line number for each line."
      ]
    },
    {
      "cell_type": "code",
      "metadata": {
        "id": "RuVhRjZysKQ6",
        "colab_type": "code",
        "colab": {},
        "outputId": "165356e2-ef96-437a-ee13-c5513b276fa0"
      },
      "source": [
        "f=open(\"a.txt\")\n",
        "j=1\n",
        "for i in f.readlines():\n",
        "    print(j,i)\n",
        "    j=j+1"
      ],
      "execution_count": 0,
      "outputs": [
        {
          "output_type": "stream",
          "text": [
            "1 hi i am bharadwaj\n",
            "\n",
            "2 Advanced programming\n",
            "\n",
            "3 dhyanahitha dsps Gitam\n",
            "\n",
            "4 hyderabad telangana india\n"
          ],
          "name": "stdout"
        }
      ]
    },
    {
      "cell_type": "markdown",
      "metadata": {
        "id": "s-ayVzzMsKRG",
        "colab_type": "text"
      },
      "source": [
        "Question 3:\n",
        "[deDuplicate] Avoiding Duplicates\n",
        "In many situations, lists should not contain duplicate elements. For example, a pack of cards should not contain the same card twice. Define a function\n",
        "duplicates (list): bool\n",
        "which returns True if its argument contains duplicate elements.\n",
        "\t\tduplicates [1,2,3,4,5]\n",
        "\t\t\tFalse\n",
        "\t\tduplicates [1,2,3,2]\n",
        "\t\t\tTrue\n",
        "Hint: the standard operation in, which tests whether an element occurs in a list, is helpful here.\n",
        "\n",
        "One way to ensure a list contains no duplicates is to start with a list that might contain duplicate elements, and remove them. Define a function\n",
        "    removeDuplicates (list): list\n",
        "which returns a list containing the same elements as its argument, but without duplicates.\n"
      ]
    },
    {
      "cell_type": "code",
      "metadata": {
        "id": "t0YFJhHOsKRI",
        "colab_type": "code",
        "colab": {},
        "outputId": "06afca1a-bc33-4f2b-fe23-7dc76e256d4b"
      },
      "source": [
        "def duplicates(l):\n",
        "    for i in l:\n",
        "        if l.count(i)>1:\n",
        "            return False\n",
        "    return True\n",
        "def removeDuplicates(l):\n",
        "    l=set(l)\n",
        "    return l\n",
        "\n",
        "l1=list(map(int,input().split()))\n",
        "if not(duplicates(l1)):\n",
        "    print(removeDuplicates(l1))\n",
        "else:\n",
        "    print(l1)\n"
      ],
      "execution_count": 0,
      "outputs": [
        {
          "output_type": "stream",
          "text": [
            "1 2 3 4 5 5 6 8 9\n",
            "{1, 2, 3, 4, 5, 6, 8, 9}\n"
          ],
          "name": "stdout"
        }
      ]
    },
    {
      "cell_type": "markdown",
      "metadata": {
        "id": "PtGfI4-msKRQ",
        "colab_type": "text"
      },
      "source": [
        "Question 4:\n",
        "[fractions.py] Develop a package for fractions. Develop a module that performs operations on fractions. It should have methods to create fractions, perform operations on two fractions, simplify a fraction, and print a fraction. You should use that package and illustrate those operations."
      ]
    },
    {
      "cell_type": "markdown",
      "metadata": {
        "id": "zTIs6DeYsKRR",
        "colab_type": "text"
      },
      "source": [
        "#fractions.py code\n",
        "<import math\n",
        "def add(num1,den1,num2,den2):\n",
        "    a=den1*den2\n",
        "    b=num1*den2+num2*den1\n",
        "    simplify(b,a)\n",
        "\n",
        "def sub(num1,den1,num2,den2):\n",
        "    a=den1*den2\n",
        "    b=num1*den2-num2*den1\n",
        "    simplify(b,a)\n",
        "\n",
        "def mult(num1,den1,num2,den2):\n",
        "    a=den1*den2\n",
        "    b=num1*num2\n",
        "    simplify(b,a)\n",
        "def dis(num1,den1):\n",
        "    simplify(num1,den1)\n",
        "\n",
        "def simplify(b,a):\n",
        "    c=math.gcd(a,b)\n",
        "    print(str(b)+\"/\"+str(a),\"=>\",str((b/c))+\"/\"+str((a/c)),\"=>\",(b/c)/(a/c))>"
      ]
    },
    {
      "cell_type": "code",
      "metadata": {
        "id": "pDqtoiKMsKRS",
        "colab_type": "code",
        "colab": {}
      },
      "source": [
        "import fractions as f"
      ],
      "execution_count": 0,
      "outputs": []
    },
    {
      "cell_type": "code",
      "metadata": {
        "id": "O6UfwNVcsKRY",
        "colab_type": "code",
        "colab": {},
        "outputId": "b641468f-dff3-48c0-d65d-85206418925d"
      },
      "source": [
        "f.add(1,2,1,2)\n",
        "f.sub(1,3,1,4)\n",
        "f.dis(1,5)\n",
        "f.mult(1,6,2,3)"
      ],
      "execution_count": 0,
      "outputs": [
        {
          "output_type": "stream",
          "text": [
            "4/4 => 1.0/1.0 => 1.0\n",
            "1/12 => 1.0/12.0 => 0.08333333333333333\n",
            "1/5 => 1.0/5.0 => 0.2\n",
            "2/18 => 1.0/9.0 => 0.1111111111111111\n"
          ],
          "name": "stdout"
        }
      ]
    },
    {
      "cell_type": "code",
      "metadata": {
        "id": "pz4NnjAfsKRd",
        "colab_type": "code",
        "colab": {},
        "outputId": "d92ed060-35e3-44ad-bbdc-bdc6179b3b4b"
      },
      "source": [
        "import fractions\n",
        "help(fractions)"
      ],
      "execution_count": 0,
      "outputs": [
        {
          "output_type": "stream",
          "text": [
            "Help on module fractions:\n",
            "\n",
            "NAME\n",
            "    fractions\n",
            "\n",
            "FUNCTIONS\n",
            "    add(num1, den1, num2, den2)\n",
            "    \n",
            "    dis(num1, den1)\n",
            "    \n",
            "    mult(num1, den1, num2, den2)\n",
            "    \n",
            "    simplify(b, a)\n",
            "    \n",
            "    sub(num1, den1, num2, den2)\n",
            "\n",
            "FILE\n",
            "    c:\\users\\user\\desktop\\fractions.py\n",
            "\n",
            "\n"
          ],
          "name": "stdout"
        }
      ]
    },
    {
      "cell_type": "markdown",
      "metadata": {
        "id": "FjdwCKOYsKRk",
        "colab_type": "text"
      },
      "source": [
        "Question 5:\n",
        "[Permutations] \n",
        "A permutation of a list is another list with the same elements, but in a possibly different order. For example, [1,2,1] is a permutation of [2,1,1], but not of [1,2,2]. Write a function\n",
        "    \t\tisPermutation (list1, list2): bool\n",
        "that returns True if its arguments are permutations of each other.\n"
      ]
    },
    {
      "cell_type": "code",
      "metadata": {
        "id": "ZUaYRdtRsKRl",
        "colab_type": "code",
        "colab": {},
        "outputId": "8aa70a03-ba20-4027-f21d-8f0306d6768c"
      },
      "source": [
        "def isPermutation(l1,l2):\n",
        "    for i in l1:\n",
        "        if l1.count(i)!=l2.count(i):\n",
        "            return False\n",
        "    return True\n",
        "print(isPermutation([1,2,1],[1,1,2]),isPermutation([1,2,1],[1,2,2]))"
      ],
      "execution_count": 0,
      "outputs": [
        {
          "output_type": "stream",
          "text": [
            "True False\n"
          ],
          "name": "stdout"
        }
      ]
    }
  ]
}