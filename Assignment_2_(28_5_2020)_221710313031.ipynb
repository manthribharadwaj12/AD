{
  "nbformat": 4,
  "nbformat_minor": 0,
  "metadata": {
    "colab": {
      "name": "Assignment 2 (28-5-2020) 221710313031",
      "provenance": [],
      "authorship_tag": "ABX9TyNfSryCYPzBA51PlohMlYVV",
      "include_colab_link": true
    },
    "kernelspec": {
      "name": "python3",
      "display_name": "Python 3"
    }
  },
  "cells": [
    {
      "cell_type": "markdown",
      "metadata": {
        "id": "view-in-github",
        "colab_type": "text"
      },
      "source": [
        "<a href=\"https://colab.research.google.com/github/manthribharadwaj12/AD/blob/master/Assignment_2_(28_5_2020)_221710313031.ipynb\" target=\"_parent\"><img src=\"https://colab.research.google.com/assets/colab-badge.svg\" alt=\"Open In Colab\"/></a>"
      ]
    },
    {
      "cell_type": "markdown",
      "metadata": {
        "id": "5F8Z0UA_uZ52",
        "colab_type": "text"
      },
      "source": [
        "Question 1:\n",
        "Accept a string from the user and count no.of vowels,consonants and special characters\n"
      ]
    },
    {
      "cell_type": "code",
      "metadata": {
        "id": "wVnMiTDkuSO2",
        "colab_type": "code",
        "colab": {
          "base_uri": "https://localhost:8080/",
          "height": 51
        },
        "outputId": "f6bcd150-c24e-4e9b-91f5-f26811005426"
      },
      "source": [
        "v=0\n",
        "c=0\n",
        "num=0\n",
        "sc=0\n",
        "s=input()\n",
        "s.lower()\n",
        "for i in s:\n",
        "  if(i.isalpha()):\n",
        "    if(i=='a' or i=='e' or i=='i' or i=='o' or i=='u'):\n",
        "      v+=1\n",
        "    else:\n",
        "      c+=1\n",
        "  elif(i.isdigit()):\n",
        "    num+=1\n",
        "  else:\n",
        "    sc+=1\n",
        "print(v,c,sc)"
      ],
      "execution_count": 1,
      "outputs": [
        {
          "output_type": "stream",
          "text": [
            "bharadwaj\n",
            "3 6 0\n"
          ],
          "name": "stdout"
        }
      ]
    },
    {
      "cell_type": "markdown",
      "metadata": {
        "id": "9-IRMc9_ua20",
        "colab_type": "text"
      },
      "source": [
        "Question 2:\n",
        "count the no.of pairs of a in the given string(Infosys InfyTQ)\n",
        " string → \"abbaaccbbaaa\"\n",
        " output → 2\n"
      ]
    },
    {
      "cell_type": "code",
      "metadata": {
        "id": "zKQCOu0Uubmk",
        "colab_type": "code",
        "colab": {
          "base_uri": "https://localhost:8080/",
          "height": 34
        },
        "outputId": "281adeb4-213a-46bf-e095-b471bcb16fb7"
      },
      "source": [
        "a=\"abbaaccbbaaa\"\n",
        "b=[]\n",
        "for i in range(1,len(a)-1):\n",
        "  if(a[i]=='a' and a[i+1]=='a'):\n",
        "    b.append('a')\n",
        "  elif(a[i-1]==\"a\" and a[i]==\"a\" and (a[i+1]==\"c\" or a[i+1]==\"b\")):\n",
        "    b.append('-')\n",
        "  else:\n",
        "    n=0\n",
        "c=b.count('-')+1\n",
        "print(c)"
      ],
      "execution_count": 6,
      "outputs": [
        {
          "output_type": "stream",
          "text": [
            "2\n"
          ],
          "name": "stdout"
        }
      ]
    },
    {
      "cell_type": "markdown",
      "metadata": {
        "id": "Q0alMUmgvv19",
        "colab_type": "text"
      },
      "source": [
        "Question 3:\n",
        "\n",
        " Test case1:\n",
        " string → \"((((()()()))))()\"\n",
        " output → 8\n",
        "\n",
        " Test case2:\n",
        " string → \"((()))()\"\n",
        " Output → 4"
      ]
    },
    {
      "cell_type": "code",
      "metadata": {
        "id": "FYQ2akUDvzp5",
        "colab_type": "code",
        "colab": {
          "base_uri": "https://localhost:8080/",
          "height": 51
        },
        "outputId": "e355b7c6-e5e6-4773-872f-40c270342bd1"
      },
      "source": [
        "a=input()\n",
        "a1=list(a)\n",
        "b=a1.count(')')\n",
        "c=a1.count('(')\n",
        "if b<c:\n",
        "  print(b)\n",
        "elif c<b:\n",
        "  print(c)\n",
        "else:\n",
        "  print(b)"
      ],
      "execution_count": 8,
      "outputs": [
        {
          "output_type": "stream",
          "text": [
            "((((()()()))))()\n",
            "8\n"
          ],
          "name": "stdout"
        }
      ]
    },
    {
      "cell_type": "markdown",
      "metadata": {
        "id": "ht2Yy9W-v0KV",
        "colab_type": "text"
      },
      "source": [
        "Question 4:\n",
        "Read the input as two limits and Print the output as Palindrome count between the two  limits\n",
        "\n",
        "Example #1; Input : 1 10 Output : 9\n",
        "\n",
        "Example #2: Input : 1 100 Output : 18"
      ]
    },
    {
      "cell_type": "code",
      "metadata": {
        "id": "36wCY8hgv8Hj",
        "colab_type": "code",
        "colab": {
          "base_uri": "https://localhost:8080/",
          "height": 51
        },
        "outputId": "08beedd3-45b4-419d-b047-1608029fd96d"
      },
      "source": [
        "a,b=map(int,input().split())\n",
        "c=0\n",
        "for i in range(a,b+1):\n",
        "  if i<10:  \n",
        "    c=c+1\n",
        "  elif i>=10:\n",
        "    d=str(i)\n",
        "    d1=d[::-1]\n",
        "    if d==d1:\n",
        "      c=c+1\n",
        "  else:\n",
        "    n=0\n",
        "print(c)"
      ],
      "execution_count": 10,
      "outputs": [
        {
          "output_type": "stream",
          "text": [
            "1 100\n",
            "18\n"
          ],
          "name": "stdout"
        }
      ]
    },
    {
      "cell_type": "markdown",
      "metadata": {
        "id": "WPHxMb09v8s6",
        "colab_type": "text"
      },
      "source": [
        "Question 5:\n",
        "Accept a number as an input and check whether the given number is palindrome or not\n",
        "\n",
        "■ if it is a palindrome number print the number on the screen\n",
        "\n",
        "■ if it is not a palindrome number reverse that number and add it to previous number\n",
        "\n",
        "repeat this until will get a palindrome number and print that palindrome number on the screen\n",
        "input: 127\n",
        "output: 848"
      ]
    },
    {
      "cell_type": "code",
      "metadata": {
        "id": "mB30lzG-wJJT",
        "colab_type": "code",
        "colab": {
          "base_uri": "https://localhost:8080/",
          "height": 51
        },
        "outputId": "be628cbb-ebb0-4fd5-f18c-c8690c07f227"
      },
      "source": [
        "a=int(input())\n",
        "a=str(a)\n",
        "a1=a[::-1]\n",
        "while a!=a1:\n",
        "    a1=int(a1)\n",
        "    a=int(a)\n",
        "    a=str(a+a1)\n",
        "    a1=a[::-1]\n",
        "print(a)"
      ],
      "execution_count": 40,
      "outputs": [
        {
          "output_type": "stream",
          "text": [
            "127\n",
            "848\n"
          ],
          "name": "stdout"
        }
      ]
    },
    {
      "cell_type": "markdown",
      "metadata": {
        "id": "d1-qwU7YwJ6J",
        "colab_type": "text"
      },
      "source": [
        "Question 6:\n",
        "\n",
        "input:orange → output : puboif"
      ]
    },
    {
      "cell_type": "code",
      "metadata": {
        "id": "_FkHxGLj7sSr",
        "colab_type": "code",
        "colab": {
          "base_uri": "https://localhost:8080/",
          "height": 51
        },
        "outputId": "d93b75d8-58c6-4c29-a7a8-a97f122a6b80"
      },
      "source": [
        "x=input()\n",
        "x.lower()\n",
        "l=[]\n",
        "for i in range(0,len(x)):\n",
        "  if x[i]=='a' or x[i]=='e' or x[i]=='i' or x[i]=='o' or x[i]=='u':\n",
        "      l.append(chr(ord(x[i])+1))\n",
        "  elif x[i]>='b' and x[i]<='d':\n",
        "      l.append('e')\n",
        "  elif x[i]>='f' and x[i]<='h':\n",
        "      l.append('i')\n",
        "  elif x[i]>='j' and x[i]<='n':\n",
        "      l.append('o')\n",
        "  elif x[i]>='p' and x[i]<='t':\n",
        "      l.append('u')\n",
        "  elif x[i]>='v' and x[i]<='z':\n",
        "      l.append('a')\n",
        "for i in l:\n",
        "  print(i,end=\"\")"
      ],
      "execution_count": 38,
      "outputs": [
        {
          "output_type": "stream",
          "text": [
            "orange\n",
            "puboif"
          ],
          "name": "stdout"
        }
      ]
    },
    {
      "cell_type": "markdown",
      "metadata": {
        "id": "1MRm2SPjwUP7",
        "colab_type": "text"
      },
      "source": [
        "Question 7:\n",
        "Accept input as a string and display sum of digits as the output\n",
        "\n",
        "input:Appli123cation456\n",
        "Output: 21\n"
      ]
    },
    {
      "cell_type": "code",
      "metadata": {
        "id": "b1vFAt97wbJK",
        "colab_type": "code",
        "colab": {
          "base_uri": "https://localhost:8080/",
          "height": 51
        },
        "outputId": "0563c676-c9a0-4c8a-8fb0-1694c5efbfde"
      },
      "source": [
        "a=input()\n",
        "s=0\n",
        "for i in a:\n",
        "  if i.isdigit():\n",
        "    s=s+int(i)\n",
        "print(s)\n"
      ],
      "execution_count": 33,
      "outputs": [
        {
          "output_type": "stream",
          "text": [
            "Appli123cation456\n",
            "21\n"
          ],
          "name": "stdout"
        }
      ]
    },
    {
      "cell_type": "markdown",
      "metadata": {
        "id": "Om1fcDV0wbtO",
        "colab_type": "text"
      },
      "source": [
        "Question 8:\n",
        "Write a program to prompt for a score between 0.0 and 1.0. If the score is out of range, printan error. If the score is between 0.0 and 1.0, print a grade using the following table:\n",
        "\n",
        "Score Grade\n",
        ">= 0.9 A\n",
        "\n",
        ">= 0.8 B\n",
        "\n",
        ">= 0.7 C\n",
        "\n",
        ">= 0.6 D\n",
        "\n",
        "< 0.6 F\n",
        "\n",
        "If the user enters a value out of range, print a suitable error message and exit. For the test,\n",
        "enter a score of 0.85"
      ]
    },
    {
      "cell_type": "code",
      "metadata": {
        "id": "3D1MQOZAwowS",
        "colab_type": "code",
        "colab": {
          "base_uri": "https://localhost:8080/",
          "height": 51
        },
        "outputId": "5ad0c50c-c22d-48fe-a6b3-a32194ba21e5"
      },
      "source": [
        "a=float(input())\n",
        "if a >= 0.9 and a<=1.0:\n",
        "  print(\"A\")\n",
        "elif a>= 0.8:\n",
        "  print(\"B\")\n",
        "elif a>= 0.7: \n",
        "  print(\"C\")\n",
        "elif a>= 0.6:\n",
        "  print(\"D\")\n",
        "elif a<0.6: \n",
        "  print(\"F\")\n",
        "else:\n",
        "  print(\"error\")\n"
      ],
      "execution_count": 34,
      "outputs": [
        {
          "output_type": "stream",
          "text": [
            "0.85\n",
            "B\n"
          ],
          "name": "stdout"
        }
      ]
    },
    {
      "cell_type": "markdown",
      "metadata": {
        "id": "mUcEBcfgwpSM",
        "colab_type": "text"
      },
      "source": [
        "Question 9:\n",
        "Write a Python program which iterates the integers from 1 to 50. For multiples of three print \"Fizz\" instead of the number and for the multiples of five print \"Buzz\".\n",
        "\n",
        "For numbers which are multiples of both three and five print \"FizzBuzz\".\n",
        "\n",
        "Sample Output :\n",
        "fizzbuzz\n",
        "\n",
        "1\n",
        "\n",
        "2\n",
        "\n",
        "fizz\n",
        "\n",
        "4\n",
        "\n",
        "buzz\n"
      ]
    },
    {
      "cell_type": "code",
      "metadata": {
        "id": "7EKB2Y0QwwD4",
        "colab_type": "code",
        "colab": {
          "base_uri": "https://localhost:8080/",
          "height": 867
        },
        "outputId": "d67b5715-0716-4a5c-eb3c-7826bb92f70c"
      },
      "source": [
        "for i in range(1,51):\n",
        "  if i%5==0 and i%3==0:\n",
        "    print(\"FizzBuzz\")\n",
        "  elif i%3==0:\n",
        "    print(\"Fizz\")\n",
        "  elif i%5==0:\n",
        "    print(\"Buzz\")\n",
        "  else:\n",
        "    print(i)"
      ],
      "execution_count": 37,
      "outputs": [
        {
          "output_type": "stream",
          "text": [
            "1\n",
            "2\n",
            "Fizz\n",
            "4\n",
            "Buzz\n",
            "Fizz\n",
            "7\n",
            "8\n",
            "Fizz\n",
            "Buzz\n",
            "11\n",
            "Fizz\n",
            "13\n",
            "14\n",
            "FizzBuzz\n",
            "16\n",
            "17\n",
            "Fizz\n",
            "19\n",
            "Buzz\n",
            "Fizz\n",
            "22\n",
            "23\n",
            "Fizz\n",
            "Buzz\n",
            "26\n",
            "Fizz\n",
            "28\n",
            "29\n",
            "FizzBuzz\n",
            "31\n",
            "32\n",
            "Fizz\n",
            "34\n",
            "Buzz\n",
            "Fizz\n",
            "37\n",
            "38\n",
            "Fizz\n",
            "Buzz\n",
            "41\n",
            "Fizz\n",
            "43\n",
            "44\n",
            "FizzBuzz\n",
            "46\n",
            "47\n",
            "Fizz\n",
            "49\n",
            "Buzz\n"
          ],
          "name": "stdout"
        }
      ]
    },
    {
      "cell_type": "markdown",
      "metadata": {
        "id": "SvdK324mwwlr",
        "colab_type": "text"
      },
      "source": [
        "Question 10:\n",
        "Write a Python program to find the median of three values.\n",
        "Expected Output:\n",
        "\n",
        "Input first number: 26\n",
        "\n",
        "Input second number: 15\n",
        "\n",
        "Input third number: 29\n",
        "\n",
        "The median is 26"
      ]
    },
    {
      "cell_type": "code",
      "metadata": {
        "id": "VrSBXNYLxEhn",
        "colab_type": "code",
        "colab": {
          "base_uri": "https://localhost:8080/",
          "height": 85
        },
        "outputId": "40c7aef7-faee-4ab2-eca9-c724ac20d2fc"
      },
      "source": [
        "a=int(input(\"Input first number \"))\n",
        "b=int(input(\"Input second number \"))\n",
        "c=int(input(\"Input third number \"))\n",
        "l=[]\n",
        "l.append(a)\n",
        "l.append(b)\n",
        "l.append(c)\n",
        "l.sort()\n",
        "print(\"The median is\",l[1])"
      ],
      "execution_count": 36,
      "outputs": [
        {
          "output_type": "stream",
          "text": [
            "Input first number 26\n",
            "Input second number 15\n",
            "Input third number 29\n",
            "The median is 26\n"
          ],
          "name": "stdout"
        }
      ]
    },
    {
      "cell_type": "code",
      "metadata": {
        "id": "yiO8RXrw_-uO",
        "colab_type": "code",
        "colab": {}
      },
      "source": [
        ""
      ],
      "execution_count": 0,
      "outputs": []
    }
  ]
}