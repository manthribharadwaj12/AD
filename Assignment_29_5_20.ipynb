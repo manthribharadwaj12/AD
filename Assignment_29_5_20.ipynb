{
  "nbformat": 4,
  "nbformat_minor": 0,
  "metadata": {
    "kernelspec": {
      "name": "python3",
      "display_name": "Python 3"
    },
    "colab": {
      "name": "Assignment 29-5-20.ipynb",
      "provenance": [],
      "include_colab_link": true
    }
  },
  "cells": [
    {
      "cell_type": "markdown",
      "metadata": {
        "id": "view-in-github",
        "colab_type": "text"
      },
      "source": [
        "<a href=\"https://colab.research.google.com/github/manthribharadwaj12/AD/blob/master/Assignment_29_5_20.ipynb\" target=\"_parent\"><img src=\"https://colab.research.google.com/assets/colab-badge.svg\" alt=\"Open In Colab\"/></a>"
      ]
    },
    {
      "cell_type": "markdown",
      "metadata": {
        "id": "GgAUEtaHavNl",
        "colab_type": "text"
      },
      "source": [
        "# CSE-221710313031-M S S Bharadwaj"
      ]
    },
    {
      "cell_type": "markdown",
      "metadata": {
        "id": "iOrxeMY2avNp",
        "colab_type": "text"
      },
      "source": [
        "Question 1:\n",
        "Create a function to find Factorial of a number using Recursion"
      ]
    },
    {
      "cell_type": "code",
      "metadata": {
        "id": "YxTJTBSkavNs",
        "colab_type": "code",
        "outputId": "e6cca089-00b5-4c2a-82f4-aefdbcfcd52b",
        "colab": {
          "base_uri": "https://localhost:8080/",
          "height": 51
        }
      },
      "source": [
        "def fact(i):\n",
        "    if i==1:\n",
        "        return 1  \n",
        "    else:\n",
        "        return(i*fact(i-1))\n",
        "n=int(input())\n",
        "fact(n)    "
      ],
      "execution_count": 0,
      "outputs": [
        {
          "output_type": "stream",
          "text": [
            "6\n"
          ],
          "name": "stdout"
        },
        {
          "output_type": "execute_result",
          "data": {
            "text/plain": [
              "720"
            ]
          },
          "metadata": {
            "tags": []
          },
          "execution_count": 2
        }
      ]
    },
    {
      "cell_type": "markdown",
      "metadata": {
        "id": "Yb5XsJw9avN3",
        "colab_type": "text"
      },
      "source": [
        "Question 2:\n",
        "Create a function and display ‘n’ Fibonacci numbers using Recursion"
      ]
    },
    {
      "cell_type": "code",
      "metadata": {
        "id": "05wTeyTfavN5",
        "colab_type": "code",
        "outputId": "a05574b8-897d-4bd0-9807-a66a08c3db58",
        "colab": {
          "base_uri": "https://localhost:8080/",
          "height": 51
        }
      },
      "source": [
        "def fib(n):\n",
        "    if n<=1:\n",
        "        return n\n",
        "    else:\n",
        "        return fib(n-1)+fib(n-2)\n",
        "n=int(input())\n",
        "for i in range(n):\n",
        "    print(fib(i),end=' ')"
      ],
      "execution_count": 0,
      "outputs": [
        {
          "output_type": "stream",
          "text": [
            "5\n",
            "0 1 1 2 3 "
          ],
          "name": "stdout"
        }
      ]
    },
    {
      "cell_type": "markdown",
      "metadata": {
        "id": "czM9kkWDavOD",
        "colab_type": "text"
      },
      "source": [
        "Question 3:\n",
        "Print sum of list of elements without using sum() function\n"
      ]
    },
    {
      "cell_type": "code",
      "metadata": {
        "id": "WO0UaYwWavOE",
        "colab_type": "code",
        "outputId": "327ac30e-b1c0-42a1-c9e2-35c17cc23e0c",
        "colab": {
          "base_uri": "https://localhost:8080/",
          "height": 51
        }
      },
      "source": [
        "l=list(map(int,input().split()))\n",
        "s=0\n",
        "for i in l:\n",
        "    s=s+i\n",
        "print(s)"
      ],
      "execution_count": 0,
      "outputs": [
        {
          "output_type": "stream",
          "text": [
            "1 2 3 4 5\n",
            "15\n"
          ],
          "name": "stdout"
        }
      ]
    },
    {
      "cell_type": "markdown",
      "metadata": {
        "id": "XsAh80gJavOP",
        "colab_type": "text"
      },
      "source": [
        "Question 4:\n",
        "print only even numbers from the list"
      ]
    },
    {
      "cell_type": "code",
      "metadata": {
        "id": "zPTdPkgBavOQ",
        "colab_type": "code",
        "outputId": "aebc9956-76d6-484c-c69e-2738c23dec72",
        "colab": {
          "base_uri": "https://localhost:8080/",
          "height": 51
        }
      },
      "source": [
        "l=list(map(int,input().split()))\n",
        "for i in l:\n",
        "    if i%2==0:\n",
        "        print(i,end=\" \")"
      ],
      "execution_count": 0,
      "outputs": [
        {
          "output_type": "stream",
          "text": [
            "1 2 3 4 6\n",
            "2 4 6 "
          ],
          "name": "stdout"
        }
      ]
    },
    {
      "cell_type": "markdown",
      "metadata": {
        "id": "MmDESNJ0avOZ",
        "colab_type": "text"
      },
      "source": [
        "Question 5:\n",
        "Write a Python program to get the smallest number from a list and display index of smallest\n",
        "element of the list"
      ]
    },
    {
      "cell_type": "code",
      "metadata": {
        "id": "rDkG-6HBavOa",
        "colab_type": "code",
        "outputId": "61e430c0-4406-4d97-8465-e34c8e337f52",
        "colab": {
          "base_uri": "https://localhost:8080/",
          "height": 51
        }
      },
      "source": [
        "l=list(map(int,input().split()))\n",
        "a=min(l)\n",
        "b=l.index(a)\n",
        "print(a,b)"
      ],
      "execution_count": 0,
      "outputs": [
        {
          "output_type": "stream",
          "text": [
            "2 3 4 5 6 1\n",
            "1 5\n"
          ],
          "name": "stdout"
        }
      ]
    },
    {
      "cell_type": "markdown",
      "metadata": {
        "id": "t_bjGnCFavOl",
        "colab_type": "text"
      },
      "source": [
        "Question 6:\n",
        "Write a Python function that checks whether a passed string is palindrome or not."
      ]
    },
    {
      "cell_type": "code",
      "metadata": {
        "id": "nwFsRYHQavOm",
        "colab_type": "code",
        "outputId": "f1bd4ec4-55dd-4a4d-e5ac-d3ed77f66214",
        "colab": {
          "base_uri": "https://localhost:8080/",
          "height": 51
        }
      },
      "source": [
        "def pallin(s):\n",
        "    s1=s[::-1]\n",
        "    if s1==s:\n",
        "        print(\"Pallindrome\")\n",
        "    else:\n",
        "        print(\"Not a Pallindrome\")\n",
        "n=input()\n",
        "pallin(n)"
      ],
      "execution_count": 0,
      "outputs": [
        {
          "output_type": "stream",
          "text": [
            "madam\n",
            "Pallindrome\n"
          ],
          "name": "stdout"
        }
      ]
    },
    {
      "cell_type": "markdown",
      "metadata": {
        "id": "J-UZeyLAavOu",
        "colab_type": "text"
      },
      "source": [
        "Question 7:\n",
        "Write a Python program to count the number of even and odd numbers from a\n",
        "series of numbers.\n",
        "Sample numbers : numbers = [1, 2, 3, 4, 5, 6, 7, 8, 9]\n",
        "Expected Output :\n",
        "Number of even numbers : 4\n",
        "Number of odd numbers : 5"
      ]
    },
    {
      "cell_type": "code",
      "metadata": {
        "id": "Rykv849kavOu",
        "colab_type": "code",
        "outputId": "36ad5b50-d96e-41cf-b013-52d6427d59c3",
        "colab": {
          "base_uri": "https://localhost:8080/",
          "height": 68
        }
      },
      "source": [
        "l=list(map(int,input().split()))\n",
        "e=0\n",
        "o=0\n",
        "for i in l:\n",
        "    if i%2==0 and i!=0:\n",
        "        e=e+1\n",
        "    else:\n",
        "        o=o+1\n",
        "print(\"Number of even numbers:\",e)\n",
        "print(\"Number of odd numbers:\",o)"
      ],
      "execution_count": 0,
      "outputs": [
        {
          "output_type": "stream",
          "text": [
            "1 2 3 4 5 6  7 8 9\n",
            "Number of even numbers: 4\n",
            "Number of odd numbers: 5\n"
          ],
          "name": "stdout"
        }
      ]
    },
    {
      "cell_type": "markdown",
      "metadata": {
        "id": "KDkQLFozavO2",
        "colab_type": "text"
      },
      "source": [
        "Question 8:\n",
        "Write a Python program that prints all the numbers from 0 to 6 except 3 and 6.\n",
        "Note : Use 'continue' statement.\n",
        "Expected Output : 0 1 2 4 5"
      ]
    },
    {
      "cell_type": "code",
      "metadata": {
        "scrolled": false,
        "id": "txaU6ZNXavO5",
        "colab_type": "code",
        "outputId": "b5b25fa0-3ae3-45c9-8cbe-dc50fd063a4e",
        "colab": {
          "base_uri": "https://localhost:8080/",
          "height": 34
        }
      },
      "source": [
        "for i in range(0,7):\n",
        "    if i==6 or i==3:\n",
        "        continue\n",
        "    print(i,end=\" \")"
      ],
      "execution_count": 0,
      "outputs": [
        {
          "output_type": "stream",
          "text": [
            "0 1 2 4 5 "
          ],
          "name": "stdout"
        }
      ]
    },
    {
      "cell_type": "markdown",
      "metadata": {
        "id": "Pc5lDvrhavPC",
        "colab_type": "text"
      },
      "source": [
        "Question 9:\n",
        "Write a python function to check whether the given number is prime or not"
      ]
    },
    {
      "cell_type": "code",
      "metadata": {
        "id": "KvRUT_bUavPD",
        "colab_type": "code",
        "outputId": "0940d455-e4fe-4333-a907-f030342bc773",
        "colab": {
          "base_uri": "https://localhost:8080/",
          "height": 51
        }
      },
      "source": [
        "def prime(n):\n",
        "    c=0\n",
        "    for i in range(2,n):\n",
        "        if n%i==0:\n",
        "            c=c+1\n",
        "    if((c==0 or n==2) and n!=1):\n",
        "        print(\"Prime\")\n",
        "    else:\n",
        "        print(\"Not Prime\")\n",
        "n=int(input())\n",
        "prime(n)"
      ],
      "execution_count": 0,
      "outputs": [
        {
          "output_type": "stream",
          "text": [
            "7\n",
            "Prime\n"
          ],
          "name": "stdout"
        }
      ]
    },
    {
      "cell_type": "markdown",
      "metadata": {
        "id": "aETASIYQavPL",
        "colab_type": "text"
      },
      "source": [
        "\n",
        "Question 10:\n",
        "Write a python function to check whether the given number is Adam number or not\n",
        "Example:\n",
        "Input : 12\n",
        "Output : Adam Number\n",
        "Explanation: 12*12 = 144\n",
        "Reverse of 12 is 21 → 21*21 =441\n",
        "Reverse of 144 == 441\n"
      ]
    },
    {
      "cell_type": "code",
      "metadata": {
        "id": "lMc4j1JravPM",
        "colab_type": "code",
        "outputId": "37a8cd08-aa06-44a2-ff00-729d11240586",
        "colab": {
          "base_uri": "https://localhost:8080/",
          "height": 51
        }
      },
      "source": [
        "def adam(a):\n",
        "  b=a[::-1]\n",
        "  a=int(a)\n",
        "  b=int(b)\n",
        "  a1=a**2\n",
        "  b1=b**2\n",
        "  a1=str(a1)\n",
        "  a1=a1[::-1]\n",
        "  if int(a1)==b1:\n",
        "      print(\"Adam Number\")\n",
        "  else:\n",
        "      print(\"not Adam Number\")\n",
        "\n",
        "\n",
        "a=str(input())\n",
        "adam(a)\n"
      ],
      "execution_count": 1,
      "outputs": [
        {
          "output_type": "stream",
          "text": [
            "12\n",
            "Adam Number\n"
          ],
          "name": "stdout"
        }
      ]
    },
    {
      "cell_type": "code",
      "metadata": {
        "id": "qpdwk8CBkE0D",
        "colab_type": "code",
        "colab": {}
      },
      "source": [
        ""
      ],
      "execution_count": 0,
      "outputs": []
    }
  ]
}