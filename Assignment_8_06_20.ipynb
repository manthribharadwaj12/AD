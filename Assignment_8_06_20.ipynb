{
  "nbformat": 4,
  "nbformat_minor": 0,
  "metadata": {
    "colab": {
      "name": "Assignment 8-06-20.ipynb",
      "provenance": [],
      "authorship_tag": "ABX9TyP0lT3zkKewudtCT7hude4j",
      "include_colab_link": true
    },
    "kernelspec": {
      "name": "python3",
      "display_name": "Python 3"
    }
  },
  "cells": [
    {
      "cell_type": "markdown",
      "metadata": {
        "id": "view-in-github",
        "colab_type": "text"
      },
      "source": [
        "<a href=\"https://colab.research.google.com/github/manthribharadwaj12/AD/blob/master/Assignment_8_06_20.ipynb\" target=\"_parent\"><img src=\"https://colab.research.google.com/assets/colab-badge.svg\" alt=\"Open In Colab\"/></a>"
      ]
    },
    {
      "cell_type": "markdown",
      "metadata": {
        "id": "6K7RD9t5jXCm",
        "colab_type": "text"
      },
      "source": [
        "# CSE-221710313031-M S S Bharadwaj"
      ]
    },
    {
      "cell_type": "markdown",
      "metadata": {
        "id": "_7lfO7ScjpVo",
        "colab_type": "text"
      },
      "source": [
        "Question 1:\n",
        "\n",
        "Experiment pivot_table() function on given DataFrame"
      ]
    },
    {
      "cell_type": "code",
      "metadata": {
        "id": "bD4ElCQ4jUJe",
        "colab_type": "code",
        "outputId": "154cee02-71f2-4879-f88c-5c4cbafcb741",
        "colab": {
          "base_uri": "https://localhost:8080/",
          "height": 297
        }
      },
      "source": [
        "import numpy as np\n",
        "import pandas as pd\n",
        "df = pd.DataFrame({\"A\": [\"foo\", \"foo\", \"foo\", \"foo\", \"foo\", \"bar\", \"bar\", \"bar\", \"bar\"],\n",
        "\"B\": [\"one\", \"one\", \"one\", \"two\", \"two\", \"one\", \"one\", \"two\", \"two\"],\n",
        "\"C\": [\"small\", \"large\", \"large\", \"small\",\"small\", \"large\", \"small\", \"small\",\"large\"],\n",
        "\"D\": [1, 2, 2, 3, 3, 4, 5, 6, 7],\n",
        "\"E\": [2, 4, 5, 5, 6, 6, 8, 9, 9]})\n",
        "table=pd.pivot_table(df,values=['D','E'],index=[\"A\",\"B\",\"C\"],aggfunc=np.sum)\n",
        "table"
      ],
      "execution_count": 0,
      "outputs": [
        {
          "output_type": "execute_result",
          "data": {
            "text/html": [
              "<div>\n",
              "<style scoped>\n",
              "    .dataframe tbody tr th:only-of-type {\n",
              "        vertical-align: middle;\n",
              "    }\n",
              "\n",
              "    .dataframe tbody tr th {\n",
              "        vertical-align: top;\n",
              "    }\n",
              "\n",
              "    .dataframe thead th {\n",
              "        text-align: right;\n",
              "    }\n",
              "</style>\n",
              "<table border=\"1\" class=\"dataframe\">\n",
              "  <thead>\n",
              "    <tr style=\"text-align: right;\">\n",
              "      <th></th>\n",
              "      <th></th>\n",
              "      <th></th>\n",
              "      <th>D</th>\n",
              "      <th>E</th>\n",
              "    </tr>\n",
              "    <tr>\n",
              "      <th>A</th>\n",
              "      <th>B</th>\n",
              "      <th>C</th>\n",
              "      <th></th>\n",
              "      <th></th>\n",
              "    </tr>\n",
              "  </thead>\n",
              "  <tbody>\n",
              "    <tr>\n",
              "      <th rowspan=\"4\" valign=\"top\">bar</th>\n",
              "      <th rowspan=\"2\" valign=\"top\">one</th>\n",
              "      <th>large</th>\n",
              "      <td>4</td>\n",
              "      <td>6</td>\n",
              "    </tr>\n",
              "    <tr>\n",
              "      <th>small</th>\n",
              "      <td>5</td>\n",
              "      <td>8</td>\n",
              "    </tr>\n",
              "    <tr>\n",
              "      <th rowspan=\"2\" valign=\"top\">two</th>\n",
              "      <th>large</th>\n",
              "      <td>7</td>\n",
              "      <td>9</td>\n",
              "    </tr>\n",
              "    <tr>\n",
              "      <th>small</th>\n",
              "      <td>6</td>\n",
              "      <td>9</td>\n",
              "    </tr>\n",
              "    <tr>\n",
              "      <th rowspan=\"3\" valign=\"top\">foo</th>\n",
              "      <th rowspan=\"2\" valign=\"top\">one</th>\n",
              "      <th>large</th>\n",
              "      <td>4</td>\n",
              "      <td>9</td>\n",
              "    </tr>\n",
              "    <tr>\n",
              "      <th>small</th>\n",
              "      <td>1</td>\n",
              "      <td>2</td>\n",
              "    </tr>\n",
              "    <tr>\n",
              "      <th>two</th>\n",
              "      <th>small</th>\n",
              "      <td>6</td>\n",
              "      <td>11</td>\n",
              "    </tr>\n",
              "  </tbody>\n",
              "</table>\n",
              "</div>"
            ],
            "text/plain": [
              "               D   E\n",
              "A   B   C           \n",
              "bar one large  4   6\n",
              "        small  5   8\n",
              "    two large  7   9\n",
              "        small  6   9\n",
              "foo one large  4   9\n",
              "        small  1   2\n",
              "    two small  6  11"
            ]
          },
          "metadata": {
            "tags": []
          },
          "execution_count": 42
        }
      ]
    },
    {
      "cell_type": "markdown",
      "metadata": {
        "id": "WPxaGufJkrwE",
        "colab_type": "text"
      },
      "source": [
        "Question 2:\n",
        "\n",
        "Experiment How to store a pandas DataFrame as csv file"
      ]
    },
    {
      "cell_type": "code",
      "metadata": {
        "id": "0svL4vwTkALT",
        "colab_type": "code",
        "colab": {}
      },
      "source": [
        "df.to_csv(\"Small.csv\")"
      ],
      "execution_count": 0,
      "outputs": []
    },
    {
      "cell_type": "markdown",
      "metadata": {
        "id": "-IQpytGrk57d",
        "colab_type": "text"
      },
      "source": [
        "Question 3:\n",
        "\n",
        "● For IPL_2018 and IPL_2017 DataFrame finds the sum of both DataFrames and store the result in the DataFrame with the name Total.\n",
        "\n",
        "● Creating a new column to Total DataFrame - 'Win Percentage' and values of that column will be matches won/matches played.\n",
        "\n",
        "● Sort the teams with the most number of wins.If the number of wins of two teams are the same, sort by the win percentage."
      ]
    },
    {
      "cell_type": "code",
      "metadata": {
        "id": "osZdlpqlk4oJ",
        "colab_type": "code",
        "colab": {}
      },
      "source": [
        "IPL_2018 = pd.DataFrame({'IPL Team': ['CSK', 'SRH', 'KKR', 'RR', 'MI', 'RCB', 'KXIP', 'DD'],\n",
        "                         'Matches Played': [16, 17, 16, 15, 14, 14, 14, 14],\n",
        "                         'Matches Won': [8, 15, 9, 7, 6, 6, 6, 5]}\n",
        "                       )\n",
        "\n",
        "IPL_2017 = pd.DataFrame({'IPL Team': ['MI', 'RPS', 'KKR', 'SRH', 'KXIP', 'DD', 'GL', 'RCB'],\n",
        "                         'Matches Played': [17, 16, 16, 15, 14, 14, 14, 14],\n",
        "                         'Matches Won': [10, 10, 9, 15, 7, 6, 4, 3]}\n",
        "                       )\n",
        "IPL_2017.set_index(\"IPL Team\",inplace=True)\n",
        "IPL_2018.set_index(\"IPL Team\",inplace=True)"
      ],
      "execution_count": 0,
      "outputs": []
    },
    {
      "cell_type": "code",
      "metadata": {
        "id": "PpLjmGrsogQc",
        "colab_type": "code",
        "outputId": "11f650bf-8a6f-4b62-aaac-5d2a613738e9",
        "colab": {
          "base_uri": "https://localhost:8080/",
          "height": 390
        }
      },
      "source": [
        "df=IPL_2018.add(IPL_2017,fill_value=0)\n",
        "df"
      ],
      "execution_count": 0,
      "outputs": [
        {
          "output_type": "execute_result",
          "data": {
            "text/html": [
              "<div>\n",
              "<style scoped>\n",
              "    .dataframe tbody tr th:only-of-type {\n",
              "        vertical-align: middle;\n",
              "    }\n",
              "\n",
              "    .dataframe tbody tr th {\n",
              "        vertical-align: top;\n",
              "    }\n",
              "\n",
              "    .dataframe thead th {\n",
              "        text-align: right;\n",
              "    }\n",
              "</style>\n",
              "<table border=\"1\" class=\"dataframe\">\n",
              "  <thead>\n",
              "    <tr style=\"text-align: right;\">\n",
              "      <th></th>\n",
              "      <th>Matches Played</th>\n",
              "      <th>Matches Won</th>\n",
              "    </tr>\n",
              "    <tr>\n",
              "      <th>IPL Team</th>\n",
              "      <th></th>\n",
              "      <th></th>\n",
              "    </tr>\n",
              "  </thead>\n",
              "  <tbody>\n",
              "    <tr>\n",
              "      <th>CSK</th>\n",
              "      <td>16.0</td>\n",
              "      <td>8.0</td>\n",
              "    </tr>\n",
              "    <tr>\n",
              "      <th>DD</th>\n",
              "      <td>28.0</td>\n",
              "      <td>11.0</td>\n",
              "    </tr>\n",
              "    <tr>\n",
              "      <th>GL</th>\n",
              "      <td>14.0</td>\n",
              "      <td>4.0</td>\n",
              "    </tr>\n",
              "    <tr>\n",
              "      <th>KKR</th>\n",
              "      <td>32.0</td>\n",
              "      <td>18.0</td>\n",
              "    </tr>\n",
              "    <tr>\n",
              "      <th>KXIP</th>\n",
              "      <td>28.0</td>\n",
              "      <td>13.0</td>\n",
              "    </tr>\n",
              "    <tr>\n",
              "      <th>MI</th>\n",
              "      <td>31.0</td>\n",
              "      <td>16.0</td>\n",
              "    </tr>\n",
              "    <tr>\n",
              "      <th>RCB</th>\n",
              "      <td>28.0</td>\n",
              "      <td>9.0</td>\n",
              "    </tr>\n",
              "    <tr>\n",
              "      <th>RPS</th>\n",
              "      <td>16.0</td>\n",
              "      <td>10.0</td>\n",
              "    </tr>\n",
              "    <tr>\n",
              "      <th>RR</th>\n",
              "      <td>15.0</td>\n",
              "      <td>7.0</td>\n",
              "    </tr>\n",
              "    <tr>\n",
              "      <th>SRH</th>\n",
              "      <td>32.0</td>\n",
              "      <td>30.0</td>\n",
              "    </tr>\n",
              "  </tbody>\n",
              "</table>\n",
              "</div>"
            ],
            "text/plain": [
              "          Matches Played  Matches Won\n",
              "IPL Team                             \n",
              "CSK                 16.0          8.0\n",
              "DD                  28.0         11.0\n",
              "GL                  14.0          4.0\n",
              "KKR                 32.0         18.0\n",
              "KXIP                28.0         13.0\n",
              "MI                  31.0         16.0\n",
              "RCB                 28.0          9.0\n",
              "RPS                 16.0         10.0\n",
              "RR                  15.0          7.0\n",
              "SRH                 32.0         30.0"
            ]
          },
          "metadata": {
            "tags": []
          },
          "execution_count": 25
        }
      ]
    },
    {
      "cell_type": "code",
      "metadata": {
        "id": "eo8Jh3UwmOkx",
        "colab_type": "code",
        "outputId": "ca1c2e4b-0f01-4412-997d-039dc04cb398",
        "colab": {
          "base_uri": "https://localhost:8080/",
          "height": 390
        }
      },
      "source": [
        "df[\"win_percentage\"]=df[\"Matches Played\"]/df[\"Matches Won\"]\n",
        "df"
      ],
      "execution_count": 0,
      "outputs": [
        {
          "output_type": "execute_result",
          "data": {
            "text/html": [
              "<div>\n",
              "<style scoped>\n",
              "    .dataframe tbody tr th:only-of-type {\n",
              "        vertical-align: middle;\n",
              "    }\n",
              "\n",
              "    .dataframe tbody tr th {\n",
              "        vertical-align: top;\n",
              "    }\n",
              "\n",
              "    .dataframe thead th {\n",
              "        text-align: right;\n",
              "    }\n",
              "</style>\n",
              "<table border=\"1\" class=\"dataframe\">\n",
              "  <thead>\n",
              "    <tr style=\"text-align: right;\">\n",
              "      <th></th>\n",
              "      <th>Matches Played</th>\n",
              "      <th>Matches Won</th>\n",
              "      <th>win_percentage</th>\n",
              "    </tr>\n",
              "    <tr>\n",
              "      <th>IPL Team</th>\n",
              "      <th></th>\n",
              "      <th></th>\n",
              "      <th></th>\n",
              "    </tr>\n",
              "  </thead>\n",
              "  <tbody>\n",
              "    <tr>\n",
              "      <th>CSK</th>\n",
              "      <td>16.0</td>\n",
              "      <td>8.0</td>\n",
              "      <td>2.000000</td>\n",
              "    </tr>\n",
              "    <tr>\n",
              "      <th>DD</th>\n",
              "      <td>28.0</td>\n",
              "      <td>11.0</td>\n",
              "      <td>2.545455</td>\n",
              "    </tr>\n",
              "    <tr>\n",
              "      <th>GL</th>\n",
              "      <td>14.0</td>\n",
              "      <td>4.0</td>\n",
              "      <td>3.500000</td>\n",
              "    </tr>\n",
              "    <tr>\n",
              "      <th>KKR</th>\n",
              "      <td>32.0</td>\n",
              "      <td>18.0</td>\n",
              "      <td>1.777778</td>\n",
              "    </tr>\n",
              "    <tr>\n",
              "      <th>KXIP</th>\n",
              "      <td>28.0</td>\n",
              "      <td>13.0</td>\n",
              "      <td>2.153846</td>\n",
              "    </tr>\n",
              "    <tr>\n",
              "      <th>MI</th>\n",
              "      <td>31.0</td>\n",
              "      <td>16.0</td>\n",
              "      <td>1.937500</td>\n",
              "    </tr>\n",
              "    <tr>\n",
              "      <th>RCB</th>\n",
              "      <td>28.0</td>\n",
              "      <td>9.0</td>\n",
              "      <td>3.111111</td>\n",
              "    </tr>\n",
              "    <tr>\n",
              "      <th>RPS</th>\n",
              "      <td>16.0</td>\n",
              "      <td>10.0</td>\n",
              "      <td>1.600000</td>\n",
              "    </tr>\n",
              "    <tr>\n",
              "      <th>RR</th>\n",
              "      <td>15.0</td>\n",
              "      <td>7.0</td>\n",
              "      <td>2.142857</td>\n",
              "    </tr>\n",
              "    <tr>\n",
              "      <th>SRH</th>\n",
              "      <td>32.0</td>\n",
              "      <td>30.0</td>\n",
              "      <td>1.066667</td>\n",
              "    </tr>\n",
              "  </tbody>\n",
              "</table>\n",
              "</div>"
            ],
            "text/plain": [
              "          Matches Played  Matches Won  win_percentage\n",
              "IPL Team                                             \n",
              "CSK                 16.0          8.0        2.000000\n",
              "DD                  28.0         11.0        2.545455\n",
              "GL                  14.0          4.0        3.500000\n",
              "KKR                 32.0         18.0        1.777778\n",
              "KXIP                28.0         13.0        2.153846\n",
              "MI                  31.0         16.0        1.937500\n",
              "RCB                 28.0          9.0        3.111111\n",
              "RPS                 16.0         10.0        1.600000\n",
              "RR                  15.0          7.0        2.142857\n",
              "SRH                 32.0         30.0        1.066667"
            ]
          },
          "metadata": {
            "tags": []
          },
          "execution_count": 26
        }
      ]
    },
    {
      "cell_type": "code",
      "metadata": {
        "id": "_smg7cvsmZvO",
        "colab_type": "code",
        "outputId": "8178277e-86d2-447d-bb39-266fa6b2b0d8",
        "colab": {
          "base_uri": "https://localhost:8080/",
          "height": 390
        }
      },
      "source": [
        "df.sort_values(by=[\"Matches Won\",\"win_percentage\"],ascending=False)"
      ],
      "execution_count": 0,
      "outputs": [
        {
          "output_type": "execute_result",
          "data": {
            "text/html": [
              "<div>\n",
              "<style scoped>\n",
              "    .dataframe tbody tr th:only-of-type {\n",
              "        vertical-align: middle;\n",
              "    }\n",
              "\n",
              "    .dataframe tbody tr th {\n",
              "        vertical-align: top;\n",
              "    }\n",
              "\n",
              "    .dataframe thead th {\n",
              "        text-align: right;\n",
              "    }\n",
              "</style>\n",
              "<table border=\"1\" class=\"dataframe\">\n",
              "  <thead>\n",
              "    <tr style=\"text-align: right;\">\n",
              "      <th></th>\n",
              "      <th>Matches Played</th>\n",
              "      <th>Matches Won</th>\n",
              "      <th>win_percentage</th>\n",
              "    </tr>\n",
              "    <tr>\n",
              "      <th>IPL Team</th>\n",
              "      <th></th>\n",
              "      <th></th>\n",
              "      <th></th>\n",
              "    </tr>\n",
              "  </thead>\n",
              "  <tbody>\n",
              "    <tr>\n",
              "      <th>SRH</th>\n",
              "      <td>32.0</td>\n",
              "      <td>30.0</td>\n",
              "      <td>1.066667</td>\n",
              "    </tr>\n",
              "    <tr>\n",
              "      <th>KKR</th>\n",
              "      <td>32.0</td>\n",
              "      <td>18.0</td>\n",
              "      <td>1.777778</td>\n",
              "    </tr>\n",
              "    <tr>\n",
              "      <th>MI</th>\n",
              "      <td>31.0</td>\n",
              "      <td>16.0</td>\n",
              "      <td>1.937500</td>\n",
              "    </tr>\n",
              "    <tr>\n",
              "      <th>KXIP</th>\n",
              "      <td>28.0</td>\n",
              "      <td>13.0</td>\n",
              "      <td>2.153846</td>\n",
              "    </tr>\n",
              "    <tr>\n",
              "      <th>DD</th>\n",
              "      <td>28.0</td>\n",
              "      <td>11.0</td>\n",
              "      <td>2.545455</td>\n",
              "    </tr>\n",
              "    <tr>\n",
              "      <th>RPS</th>\n",
              "      <td>16.0</td>\n",
              "      <td>10.0</td>\n",
              "      <td>1.600000</td>\n",
              "    </tr>\n",
              "    <tr>\n",
              "      <th>RCB</th>\n",
              "      <td>28.0</td>\n",
              "      <td>9.0</td>\n",
              "      <td>3.111111</td>\n",
              "    </tr>\n",
              "    <tr>\n",
              "      <th>CSK</th>\n",
              "      <td>16.0</td>\n",
              "      <td>8.0</td>\n",
              "      <td>2.000000</td>\n",
              "    </tr>\n",
              "    <tr>\n",
              "      <th>RR</th>\n",
              "      <td>15.0</td>\n",
              "      <td>7.0</td>\n",
              "      <td>2.142857</td>\n",
              "    </tr>\n",
              "    <tr>\n",
              "      <th>GL</th>\n",
              "      <td>14.0</td>\n",
              "      <td>4.0</td>\n",
              "      <td>3.500000</td>\n",
              "    </tr>\n",
              "  </tbody>\n",
              "</table>\n",
              "</div>"
            ],
            "text/plain": [
              "          Matches Played  Matches Won  win_percentage\n",
              "IPL Team                                             \n",
              "SRH                 32.0         30.0        1.066667\n",
              "KKR                 32.0         18.0        1.777778\n",
              "MI                  31.0         16.0        1.937500\n",
              "KXIP                28.0         13.0        2.153846\n",
              "DD                  28.0         11.0        2.545455\n",
              "RPS                 16.0         10.0        1.600000\n",
              "RCB                 28.0          9.0        3.111111\n",
              "CSK                 16.0          8.0        2.000000\n",
              "RR                  15.0          7.0        2.142857\n",
              "GL                  14.0          4.0        3.500000"
            ]
          },
          "metadata": {
            "tags": []
          },
          "execution_count": 27
        }
      ]
    },
    {
      "cell_type": "code",
      "metadata": {
        "id": "-3-OtXbIq11y",
        "colab_type": "code",
        "colab": {}
      },
      "source": [
        ""
      ],
      "execution_count": 0,
      "outputs": []
    }
  ]
}