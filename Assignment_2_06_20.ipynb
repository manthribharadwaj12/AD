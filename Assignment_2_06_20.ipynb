{
  "nbformat": 4,
  "nbformat_minor": 0,
  "metadata": {
    "kernelspec": {
      "display_name": "Python 3",
      "language": "python",
      "name": "python3"
    },
    "language_info": {
      "codemirror_mode": {
        "name": "ipython",
        "version": 3
      },
      "file_extension": ".py",
      "mimetype": "text/x-python",
      "name": "python",
      "nbconvert_exporter": "python",
      "pygments_lexer": "ipython3",
      "version": "3.7.6"
    },
    "colab": {
      "name": "Assignment 2-06-20.ipynb",
      "provenance": [],
      "include_colab_link": true
    }
  },
  "cells": [
    {
      "cell_type": "markdown",
      "metadata": {
        "id": "view-in-github",
        "colab_type": "text"
      },
      "source": [
        "<a href=\"https://colab.research.google.com/github/manthribharadwaj12/AD/blob/master/Assignment_2_06_20.ipynb\" target=\"_parent\"><img src=\"https://colab.research.google.com/assets/colab-badge.svg\" alt=\"Open In Colab\"/></a>"
      ]
    },
    {
      "cell_type": "markdown",
      "metadata": {
        "id": "QqSm02qzCI5j",
        "colab_type": "text"
      },
      "source": [
        "# CSE-221710313031-M S S Bharadwaj"
      ]
    },
    {
      "cell_type": "markdown",
      "metadata": {
        "id": "-vm1ZhQTCI5n",
        "colab_type": "text"
      },
      "source": [
        "## nine lives - assignment"
      ]
    },
    {
      "cell_type": "code",
      "metadata": {
        "id": "TaWsEpLjCI5r",
        "colab_type": "code",
        "colab": {}
      },
      "source": [
        "#list of words for the game\n",
        "f=open(\"verbs.txt\")\n",
        "l=[i[:len(i)-1] for i in f.readlines() if len(i)==6]"
      ],
      "execution_count": 0,
      "outputs": []
    },
    {
      "cell_type": "code",
      "metadata": {
        "id": "pgwux37LCI58",
        "colab_type": "code",
        "colab": {},
        "outputId": "6668f21b-5b49-48f2-f8bd-387dfcbf38e0"
      },
      "source": [
        "import random \n",
        "#9 lives\n",
        "lives=9\n",
        "print(\"HERE YOU GO>>>>\")\n",
        "#selecting secret word\n",
        "b=c=random.choice(l)\n",
        "a=['?' for i in range(len(b))]\n",
        "b=list(b)\n",
        "d=b.copy()\n",
        "#game starts\n",
        "while lives!=0:\n",
        "    print(a)\n",
        "    a1=input(\"Guess a character or the secret word: \")\n",
        "    if lives==0 or a1 in b or a1==c:\n",
        "        if a1 in b:\n",
        "            #correct letter is guessed\n",
        "            a2=d.index(a1)\n",
        "            a[a2]=a1\n",
        "            d[a2]=\".\"\n",
        "            b.remove(a1)\n",
        "            print(\"Great go a head, lives left \",lives)\n",
        "        elif a1==c:\n",
        "            #word is guessed\n",
        "            b.clear()\n",
        "        else:\n",
        "            #lives==0\n",
        "            print(\"Start again,You can do it next time\")\n",
        "            break;\n",
        "    else:\n",
        "        #wrong guess \n",
        "        lives -= 1\n",
        "        print(\"Try hard your!.. lives are:\",lives)\n",
        "    #if all letters are guessed correctly or word is guessed properly then game ends\n",
        "    if len(b)==0:\n",
        "            print(\"Success the secret word is\",c)\n",
        "            print(\"You Won....!\")\n",
        "            break;"
      ],
      "execution_count": 0,
      "outputs": [
        {
          "output_type": "stream",
          "text": [
            "HERE YOU GO>>>>\n",
            "['?', '?', '?', '?', '?']\n",
            "Guess a character or the secret word: w\n",
            "Try hard your!.. lives are: 8\n",
            "['?', '?', '?', '?', '?']\n",
            "Guess a character or the secret word: a\n",
            "Great go a head, lives left  8\n",
            "['?', '?', 'a', '?', '?']\n",
            "Guess a character or the secret word: i\n",
            "Try hard your!.. lives are: 7\n",
            "['?', '?', 'a', '?', '?']\n",
            "Guess a character or the secret word: g\n",
            "Try hard your!.. lives are: 6\n",
            "['?', '?', 'a', '?', '?']\n",
            "Guess a character or the secret word: h\n",
            "Try hard your!.. lives are: 5\n",
            "['?', '?', 'a', '?', '?']\n",
            "Guess a character or the secret word: t\n",
            "Great go a head, lives left  5\n",
            "['?', 't', 'a', '?', '?']\n",
            "Guess a character or the secret word: start\n",
            "Success the secret word is start\n",
            "You Won....!\n"
          ],
          "name": "stdout"
        }
      ]
    }
  ]
}