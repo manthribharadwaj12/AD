{
  "nbformat": 4,
  "nbformat_minor": 0,
  "metadata": {
    "colab": {
      "name": "Assignment 27-05-20(221710313031).ipynb",
      "provenance": [],
      "authorship_tag": "ABX9TyOk2TtH3geoHD3pSfGev1i5",
      "include_colab_link": true
    },
    "kernelspec": {
      "name": "python3",
      "display_name": "Python 3"
    }
  },
  "cells": [
    {
      "cell_type": "markdown",
      "metadata": {
        "id": "view-in-github",
        "colab_type": "text"
      },
      "source": [
        "<a href=\"https://colab.research.google.com/github/manthribharadwaj12/AD/blob/master/Assignment_27_05_20(221710313031).ipynb\" target=\"_parent\"><img src=\"https://colab.research.google.com/assets/colab-badge.svg\" alt=\"Open In Colab\"/></a>"
      ]
    },
    {
      "cell_type": "markdown",
      "metadata": {
        "id": "6Md4TpRi1SA5",
        "colab_type": "text"
      },
      "source": [
        "1. Generate the following pattern\n",
        "\n",
        "\n",
        "\n",
        "```\n",
        "*\n",
        "*  *\n",
        "*  *  *\n",
        "*  *  *  *\n",
        "*  *  *  *  *\n",
        "```\n",
        "\n"
      ]
    },
    {
      "cell_type": "code",
      "metadata": {
        "id": "WkbCfERu1QFz",
        "colab_type": "code",
        "colab": {
          "base_uri": "https://localhost:8080/",
          "height": 187
        },
        "outputId": "fc534015-25b6-4d70-bc85-5a998ae26221"
      },
      "source": [
        "for i in range(0,5):\n",
        "  for j in range(0,5):\n",
        "    if i>=j:\n",
        "      print(\"*\",end=\" \")\n",
        "  print(\"\\n\")"
      ],
      "execution_count": 4,
      "outputs": [
        {
          "output_type": "stream",
          "text": [
            "* \n",
            "\n",
            "* * \n",
            "\n",
            "* * * \n",
            "\n",
            "* * * * \n",
            "\n",
            "* * * * * \n",
            "\n"
          ],
          "name": "stdout"
        }
      ]
    },
    {
      "cell_type": "markdown",
      "metadata": {
        "id": "jLrz28K1240x",
        "colab_type": "text"
      },
      "source": [
        "2. Display multiplication table of K. Take k value from user\n",
        " \t\n",
        "   Ex:      \n",
        "   \n",
        "\n",
        "```\n",
        "7 x 1 =7 \n",
        "7 x 2 = 14....\n",
        "```\n",
        "\n",
        "  "
      ]
    },
    {
      "cell_type": "code",
      "metadata": {
        "id": "zOk4CnPE2Xi6",
        "colab_type": "code",
        "colab": {
          "base_uri": "https://localhost:8080/",
          "height": 204
        },
        "outputId": "39755944-db81-4a87-cb99-b0b4b05b9cc5"
      },
      "source": [
        "k=int(input())\n",
        "for i in range(1,11):\n",
        "  print(\"\"+str(k)+\"x\"+str(i)+\"=\"+str(k*i))"
      ],
      "execution_count": 8,
      "outputs": [
        {
          "output_type": "stream",
          "text": [
            "7\n",
            "7x1=7\n",
            "7x2=14\n",
            "7x3=21\n",
            "7x4=28\n",
            "7x5=35\n",
            "7x6=42\n",
            "7x7=49\n",
            "7x8=56\n",
            "7x9=63\n",
            "7x10=70\n"
          ],
          "name": "stdout"
        }
      ]
    },
    {
      "cell_type": "markdown",
      "metadata": {
        "id": "0aMUmZ2y4P0B",
        "colab_type": "text"
      },
      "source": [
        "3. Roots of quadratic equation\n",
        "\n",
        "  \tTake the coefficients a,b,c from the user"
      ]
    },
    {
      "cell_type": "code",
      "metadata": {
        "id": "-rHopUGn32-0",
        "colab_type": "code",
        "colab": {
          "base_uri": "https://localhost:8080/",
          "height": 85
        },
        "outputId": "878b2909-b64c-4daf-b20b-7cd3164f1e05"
      },
      "source": [
        "a=int(input())\n",
        "b=int(input())\n",
        "c=int(input())\n",
        "d=(-1*b+(b**2-4*a*c)**(1/2))/2\n",
        "e=(-1*b-(b**2-4*a*c)**(1/2))/2\n",
        "print(\"roots are:\",d,e)"
      ],
      "execution_count": 9,
      "outputs": [
        {
          "output_type": "stream",
          "text": [
            "5\n",
            "4\n",
            "3\n",
            "roots are: (-1.9999999999999998+3.3166247903554j) (-2-3.3166247903554j)\n"
          ],
          "name": "stdout"
        }
      ]
    },
    {
      "cell_type": "markdown",
      "metadata": {
        "id": "nvhjBP546aDJ",
        "colab_type": "text"
      },
      "source": [
        "4. Convert a decimal number to Binary"
      ]
    },
    {
      "cell_type": "code",
      "metadata": {
        "id": "put2F9ax7E1P",
        "colab_type": "code",
        "colab": {
          "base_uri": "https://localhost:8080/",
          "height": 51
        },
        "outputId": "aec4879b-56dd-4a3b-c0c9-9ba4b6ecedd5"
      },
      "source": [
        "a=int(input())\n",
        "bin=\"\"\n",
        "while(a!=0):\n",
        "  i=a%2\n",
        "  bin=bin+str(i)\n",
        "  a=a//2\n",
        "bin +=\"0\"\n",
        "print(bin)"
      ],
      "execution_count": 17,
      "outputs": [
        {
          "output_type": "stream",
          "text": [
            "10\n",
            "01010\n"
          ],
          "name": "stdout"
        }
      ]
    },
    {
      "cell_type": "markdown",
      "metadata": {
        "id": "mkqJw4du8iq9",
        "colab_type": "text"
      },
      "source": [
        "5. Generate first N number of Fibonacci numbers. Take N value from the user"
      ]
    },
    {
      "cell_type": "code",
      "metadata": {
        "id": "6kTu66yT8Cgn",
        "colab_type": "code",
        "colab": {
          "base_uri": "https://localhost:8080/",
          "height": 51
        },
        "outputId": "6c94ffe3-b821-48f1-c49e-4a6f8aad1faf"
      },
      "source": [
        "n=int(input())\n",
        "i=0\n",
        "j=1\n",
        "print(i,j,end=\" \")\n",
        "c=2\n",
        "while c!=n:\n",
        "  k=i+j\n",
        "  i=j\n",
        "  j=k\n",
        "  print(k,end=\" \")\n",
        "  c +=1\n"
      ],
      "execution_count": 18,
      "outputs": [
        {
          "output_type": "stream",
          "text": [
            "5\n",
            "0 1 1 2 3 "
          ],
          "name": "stdout"
        }
      ]
    },
    {
      "cell_type": "code",
      "metadata": {
        "id": "fO8i8OBm96hm",
        "colab_type": "code",
        "colab": {}
      },
      "source": [
        ""
      ],
      "execution_count": 0,
      "outputs": []
    }
  ]
}