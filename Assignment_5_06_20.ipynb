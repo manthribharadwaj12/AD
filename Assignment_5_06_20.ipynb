{
  "nbformat": 4,
  "nbformat_minor": 0,
  "metadata": {
    "colab": {
      "name": "Assignment 5-06-20.ipynb",
      "provenance": [],
      "authorship_tag": "ABX9TyPceuFd/qByYhT9G1h3gz0s",
      "include_colab_link": true
    },
    "kernelspec": {
      "name": "python3",
      "display_name": "Python 3"
    }
  },
  "cells": [
    {
      "cell_type": "markdown",
      "metadata": {
        "id": "view-in-github",
        "colab_type": "text"
      },
      "source": [
        "<a href=\"https://colab.research.google.com/github/manthribharadwaj12/AD/blob/master/Assignment_5_06_20.ipynb\" target=\"_parent\"><img src=\"https://colab.research.google.com/assets/colab-badge.svg\" alt=\"Open In Colab\"/></a>"
      ]
    },
    {
      "cell_type": "markdown",
      "metadata": {
        "id": "PPH9ReCbsrYg",
        "colab_type": "text"
      },
      "source": [
        "# CSE-221710313031-M S S Bharadwaj"
      ]
    },
    {
      "cell_type": "markdown",
      "metadata": {
        "id": "zLWRy9QQuZ3D",
        "colab_type": "text"
      },
      "source": [
        "Question 1:\n",
        "\n",
        "# [Data Series] \n",
        "\n",
        "Write a Python program to add, subtract, multiple and divide two Pandas Series. \n",
        "\n",
        "Sample Series: \n",
        "[2, 4, 6, 8, 10], [1, 3, 5, 7, 9]\n",
        "\n",
        "Sample Output:\n",
        "[2, 4, 6, 8, 10] + [1, 3, 5, 7, 9] = [3, 7, 11, 15, 19]\n"
      ]
    },
    {
      "cell_type": "code",
      "metadata": {
        "id": "OqhLMumDsHWu",
        "colab_type": "code",
        "outputId": "fcbf9f89-e41f-4863-dced-32bef9ad7d24",
        "colab": {
          "base_uri": "https://localhost:8080/",
          "height": 85
        }
      },
      "source": [
        "import pandas as pd\n",
        "a=pd.Series([2,4,6,8,10])\n",
        "b=pd.Series([1,3,5,7,9])\n",
        "print(str(list(a)),\"+\",str(list(b)),\"=\",str(list(a+b)))\n",
        "print(str(list(a)),\"-\",str(list(b)),\"=\",str(list(a-b)))\n",
        "print(str(list(a)),\"*\",str(list(b)),\"=\",str(list(a*b)))\n",
        "print(str(list(a)),\"/\",str(list(b)),\"=\",str(list(a/b)))\n"
      ],
      "execution_count": 0,
      "outputs": [
        {
          "output_type": "stream",
          "text": [
            "[2, 4, 6, 8, 10] + [1, 3, 5, 7, 9] = [3, 7, 11, 15, 19]\n",
            "[2, 4, 6, 8, 10] - [1, 3, 5, 7, 9] = [1, 1, 1, 1, 1]\n",
            "[2, 4, 6, 8, 10] * [1, 3, 5, 7, 9] = [2, 12, 30, 56, 90]\n",
            "[2, 4, 6, 8, 10] / [1, 3, 5, 7, 9] = [2.0, 1.3333333333333333, 1.2, 1.1428571428571428, 1.1111111111111112]\n"
          ],
          "name": "stdout"
        }
      ]
    },
    {
      "cell_type": "markdown",
      "metadata": {
        "id": "OT6Pb4lgvlX6",
        "colab_type": "text"
      },
      "source": [
        "Question 2:\n",
        "\n",
        "# [Quartiles] \n",
        "\n",
        "Write a Pandas program to compute the minimum, 25th percentile, median, 75th, and maximum of a given series. \n",
        "\n",
        "Sample Output:\n",
        "Original Series:\n",
        "\n",
        "0 3.000938\n",
        "\n",
        "1 11.370722\n",
        "\n",
        "2 14.612143\n",
        "\n",
        "3 8.990256\n",
        "\n",
        "4 13.925283\n",
        "\n",
        "5 12.056875\n",
        "\n",
        ".... 17 14.118931\n",
        "\n",
        "18 8.247458\n",
        "\n",
        "19 5.526727\n",
        "\n",
        "dtype: float64\n",
        "\n",
        "Minimum, 25th percentile, median, 75th, and maximum of a given series:\n",
        "[ 3.00093811 8.09463867 10.23353705 12.21537733 14.61214321]\n"
      ]
    },
    {
      "cell_type": "code",
      "metadata": {
        "id": "7s0FHNvFuz-W",
        "colab_type": "code",
        "outputId": "2fca2398-e2cf-4fc1-c1dd-9a082f0ad15f",
        "colab": {
          "base_uri": "https://localhost:8080/",
          "height": 102
        }
      },
      "source": [
        "s=pd.Series([1,2,3,4,5,6,7,8,9,10])\n",
        "b=s.describe()\n",
        "print(b[3:len(b)-1])"
      ],
      "execution_count": 0,
      "outputs": [
        {
          "output_type": "stream",
          "text": [
            "min    1.00\n",
            "25%    3.25\n",
            "50%    5.50\n",
            "75%    7.75\n",
            "dtype: float64\n"
          ],
          "name": "stdout"
        }
      ]
    },
    {
      "cell_type": "markdown",
      "metadata": {
        "id": "suo-JSl4wjfz",
        "colab_type": "text"
      },
      "source": [
        "Question 3:\n",
        "# [List Difference] \n",
        "\n",
        "Write a Pandas program to get the items of a given series not present in another given series. \n",
        "\n",
        "Sample Output:\n",
        "\n",
        "Original Series:\n",
        "\n",
        "sr1:\n",
        "\n",
        "0 1\n",
        "\n",
        "1 2\n",
        "\n",
        "2 3\n",
        "\n",
        "3 4\n",
        "\n",
        "4 5\n",
        "\n",
        "dtype: int64\n",
        "\n",
        "sr2:\n",
        "\n",
        "0 2\n",
        "\n",
        "1 4\n",
        "\n",
        "2 6\n",
        "\n",
        "3 8\n",
        "\n",
        "4 10\n",
        "\n",
        "dtype: int64\n",
        "\n",
        "Items of sr1 not present in sr2:\n",
        "\n",
        "0 1\n",
        "\n",
        "2 3\n",
        "\n",
        "4 5\n",
        "\n",
        "dtype: int64\n"
      ]
    },
    {
      "cell_type": "code",
      "metadata": {
        "id": "gRvCcOAGwzjG",
        "colab_type": "code",
        "outputId": "11778726-1d0f-4457-ac53-62a0384eadb6",
        "colab": {
          "base_uri": "https://localhost:8080/",
          "height": 85
        }
      },
      "source": [
        "a=pd.Series([1,2,3,4,5])\n",
        "b=pd.Series([2,4,6,8,10])\n",
        "f=pd.Series([i for i in list(a) if i not in list(b)])\n",
        "f"
      ],
      "execution_count": 0,
      "outputs": [
        {
          "output_type": "execute_result",
          "data": {
            "text/plain": [
              "0    1\n",
              "1    3\n",
              "2    5\n",
              "dtype: int64"
            ]
          },
          "metadata": {
            "tags": []
          },
          "execution_count": 20
        }
      ]
    },
    {
      "cell_type": "markdown",
      "metadata": {
        "id": "0gTwFUcgxT5E",
        "colab_type": "text"
      },
      "source": [
        "Question 4:\n",
        "# [Filter Words with Multiple Vowels] \n",
        "\n",
        "Write a Pandas program to filter words from a given series that contain at least two vowels. \n",
        "\n",
        "Sample Output:\n",
        "\n",
        "Original Series:\n",
        "\n",
        "0 Red\n",
        "\n",
        "1 Green\n",
        "\n",
        "2 Orange\n",
        "\n",
        "3 Pink\n",
        "\n",
        "4 Yellow\n",
        "\n",
        "5 White\n",
        "\n",
        "dtype: object\n",
        "\n",
        "Filtered words:\n",
        "\n",
        "1 Green\n",
        "\n",
        "2 Orange\n",
        "\n",
        "4 Yellow\n",
        "\n",
        "5 White\n",
        "\n",
        "dtype: object\n"
      ]
    },
    {
      "cell_type": "code",
      "metadata": {
        "id": "0me5Ss4rx54n",
        "colab_type": "code",
        "outputId": "ab115d65-0d9b-4d51-c78c-c56632dd4c18",
        "colab": {
          "base_uri": "https://localhost:8080/",
          "height": 102
        }
      },
      "source": [
        "a=pd.Series([\"Red\",\"Green\",\"Orange\",\"Pink\",\"Yellow\",\"White\"])\n",
        "l=[]\n",
        "for i in a:\n",
        "  c=0\n",
        "  for j in i:\n",
        "    if j in ['a','e','i','o','u','A','E','O','U','I']:\n",
        "      c=c+i.count(j)\n",
        "  if c>=2:\n",
        "    l.append(i)\n",
        "b=pd.Series(l,dtype=\"object\") \n",
        "b"
      ],
      "execution_count": 0,
      "outputs": [
        {
          "output_type": "execute_result",
          "data": {
            "text/plain": [
              "0     Green\n",
              "1    Orange\n",
              "2    Yellow\n",
              "3     White\n",
              "dtype: object"
            ]
          },
          "metadata": {
            "tags": []
          },
          "execution_count": 13
        }
      ]
    },
    {
      "cell_type": "markdown",
      "metadata": {
        "id": "oZVUjPMWx6hv",
        "colab_type": "text"
      },
      "source": [
        "\n",
        "Question 5:\n",
        "\n",
        "Consider the following as my DataFrame,Write a Pandas program to select the rows where the number of attempts in the examination is greater than 2."
      ]
    },
    {
      "cell_type": "code",
      "metadata": {
        "id": "3Fas-ydeyABN",
        "colab_type": "code",
        "outputId": "ecd88669-7e31-4ca6-be4d-1ca24b0cb8f4",
        "colab": {
          "base_uri": "https://localhost:8080/",
          "height": 85
        }
      },
      "source": [
        "import pandas as pd\n",
        "import numpy as np\n",
        "a={'name':['Anastasia','Dima','Katherine','James','Emily','Michael','Matthew','Laura','Kevin','Jonas'],'score':[12.5,9,16.5,np.nan,9,20,14.5,np.nan,8,19],'attempts':[1,3,2,3,2,3,1,1,2,1],'qualify':['yes','no','yes','no','no','yes','yes','no','no','yes']}\n",
        "df=pd.DataFrame(a)\n",
        "print(df[df['attempts']>2])"
      ],
      "execution_count": 0,
      "outputs": [
        {
          "output_type": "stream",
          "text": [
            "      name  score  attempts qualify\n",
            "1     Dima    9.0         3      no\n",
            "3    James    NaN         3      no\n",
            "5  Michael   20.0         3     yes\n"
          ],
          "name": "stdout"
        }
      ]
    }
  ]
}